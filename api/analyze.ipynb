{
 "cells": [
  {
   "cell_type": "code",
   "execution_count": 153,
   "metadata": {},
   "outputs": [
    {
     "data": {
      "application/javascript": [
       "IPython.notebook.kernel.execute(\"URL = '\" + window.location + \"'\");"
      ],
      "text/plain": [
       "<IPython.core.display.Javascript object>"
      ]
     },
     "metadata": {},
     "output_type": "display_data"
    }
   ],
   "source": [
    "%%javascript\n",
    "IPython.notebook.kernel.execute(\"URL = '\" + window.location + \"'\");"
   ]
  },
  {
   "cell_type": "code",
   "execution_count": 154,
   "metadata": {},
   "outputs": [
    {
     "name": "stdout",
     "output_type": "stream",
     "text": [
      "The rpy2.ipython extension is already loaded. To reload it, use:\n",
      "  %reload_ext rpy2.ipython\n",
      "http://localhost:8888/notebooks/analyze.ipynb?comcon=criminalHistory_compas_results&render=true\n"
     ]
    }
   ],
   "source": [
    "%matplotlib inline  \n",
    "%load_ext rpy2.ipython\n",
    "from utils import init; df = init(URL)"
   ]
  },
  {
   "cell_type": "code",
   "execution_count": 155,
   "metadata": {},
   "outputs": [
    {
     "data": {
      "text/html": [
       "<div>\n",
       "<style scoped>\n",
       "    .dataframe tbody tr th:only-of-type {\n",
       "        vertical-align: middle;\n",
       "    }\n",
       "\n",
       "    .dataframe tbody tr th {\n",
       "        vertical-align: top;\n",
       "    }\n",
       "\n",
       "    .dataframe thead th {\n",
       "        text-align: right;\n",
       "    }\n",
       "</style>\n",
       "<table border=\"1\" class=\"dataframe\">\n",
       "  <thead>\n",
       "    <tr style=\"text-align: right;\">\n",
       "      <th></th>\n",
       "      <th>id</th>\n",
       "      <th>age</th>\n",
       "      <th>juv_fel_count</th>\n",
       "      <th>decile_score</th>\n",
       "      <th>juv_misd_count</th>\n",
       "      <th>juv_other_count</th>\n",
       "      <th>priors_count</th>\n",
       "      <th>days_b_screening_arrest</th>\n",
       "      <th>c_days_from_compas</th>\n",
       "      <th>is_recid</th>\n",
       "      <th>r_days_from_arrest</th>\n",
       "      <th>violent_recid</th>\n",
       "      <th>Y_true</th>\n",
       "      <th>Y_pred</th>\n",
       "      <th>v_decile_score</th>\n",
       "      <th>priors_count.1</th>\n",
       "      <th>start</th>\n",
       "      <th>end</th>\n",
       "      <th>event</th>\n",
       "      <th>two_year_recid</th>\n",
       "    </tr>\n",
       "    <tr>\n",
       "      <th>Z</th>\n",
       "      <th></th>\n",
       "      <th></th>\n",
       "      <th></th>\n",
       "      <th></th>\n",
       "      <th></th>\n",
       "      <th></th>\n",
       "      <th></th>\n",
       "      <th></th>\n",
       "      <th></th>\n",
       "      <th></th>\n",
       "      <th></th>\n",
       "      <th></th>\n",
       "      <th></th>\n",
       "      <th></th>\n",
       "      <th></th>\n",
       "      <th></th>\n",
       "      <th></th>\n",
       "      <th></th>\n",
       "      <th></th>\n",
       "      <th></th>\n",
       "    </tr>\n",
       "  </thead>\n",
       "  <tbody>\n",
       "    <tr>\n",
       "      <th>African-American</th>\n",
       "      <td>5524.856872</td>\n",
       "      <td>32.740801</td>\n",
       "      <td>0.100108</td>\n",
       "      <td>5.368777</td>\n",
       "      <td>0.136364</td>\n",
       "      <td>0.135011</td>\n",
       "      <td>4.438853</td>\n",
       "      <td>5.190557</td>\n",
       "      <td>72.087605</td>\n",
       "      <td>0.550866</td>\n",
       "      <td>19.529933</td>\n",
       "      <td>NaN</td>\n",
       "      <td>0.133929</td>\n",
       "      <td>5.368777</td>\n",
       "      <td>4.391234</td>\n",
       "      <td>4.438853</td>\n",
       "      <td>13.959957</td>\n",
       "      <td>504.777056</td>\n",
       "      <td>0.435065</td>\n",
       "      <td>0.514340</td>\n",
       "    </tr>\n",
       "    <tr>\n",
       "      <th>Asian</th>\n",
       "      <td>5770.093750</td>\n",
       "      <td>37.781250</td>\n",
       "      <td>0.000000</td>\n",
       "      <td>2.937500</td>\n",
       "      <td>0.031250</td>\n",
       "      <td>0.031250</td>\n",
       "      <td>1.437500</td>\n",
       "      <td>-4.843750</td>\n",
       "      <td>1.812500</td>\n",
       "      <td>0.343750</td>\n",
       "      <td>0.166667</td>\n",
       "      <td>NaN</td>\n",
       "      <td>0.125000</td>\n",
       "      <td>2.937500</td>\n",
       "      <td>2.437500</td>\n",
       "      <td>1.437500</td>\n",
       "      <td>21.781250</td>\n",
       "      <td>747.343750</td>\n",
       "      <td>0.250000</td>\n",
       "      <td>0.281250</td>\n",
       "    </tr>\n",
       "    <tr>\n",
       "      <th>Caucasian</th>\n",
       "      <td>5488.236349</td>\n",
       "      <td>37.726569</td>\n",
       "      <td>0.026487</td>\n",
       "      <td>3.735126</td>\n",
       "      <td>0.041972</td>\n",
       "      <td>0.092095</td>\n",
       "      <td>2.586797</td>\n",
       "      <td>-0.120690</td>\n",
       "      <td>36.843610</td>\n",
       "      <td>0.417685</td>\n",
       "      <td>22.033803</td>\n",
       "      <td>NaN</td>\n",
       "      <td>0.090465</td>\n",
       "      <td>3.735126</td>\n",
       "      <td>2.948655</td>\n",
       "      <td>2.586797</td>\n",
       "      <td>8.609209</td>\n",
       "      <td>589.662999</td>\n",
       "      <td>0.332518</td>\n",
       "      <td>0.393643</td>\n",
       "    </tr>\n",
       "    <tr>\n",
       "      <th>Hispanic</th>\n",
       "      <td>5518.141287</td>\n",
       "      <td>35.455259</td>\n",
       "      <td>0.032967</td>\n",
       "      <td>3.463108</td>\n",
       "      <td>0.039246</td>\n",
       "      <td>0.067504</td>\n",
       "      <td>2.252747</td>\n",
       "      <td>2.429795</td>\n",
       "      <td>72.448494</td>\n",
       "      <td>0.384615</td>\n",
       "      <td>17.676056</td>\n",
       "      <td>NaN</td>\n",
       "      <td>0.087912</td>\n",
       "      <td>3.463108</td>\n",
       "      <td>3.034537</td>\n",
       "      <td>2.252747</td>\n",
       "      <td>9.365777</td>\n",
       "      <td>631.894819</td>\n",
       "      <td>0.323391</td>\n",
       "      <td>0.364207</td>\n",
       "    </tr>\n",
       "    <tr>\n",
       "      <th>Native American</th>\n",
       "      <td>4379.388889</td>\n",
       "      <td>32.888889</td>\n",
       "      <td>0.277778</td>\n",
       "      <td>6.166667</td>\n",
       "      <td>0.055556</td>\n",
       "      <td>0.222222</td>\n",
       "      <td>6.000000</td>\n",
       "      <td>-10.187500</td>\n",
       "      <td>54.470588</td>\n",
       "      <td>0.611111</td>\n",
       "      <td>76.666667</td>\n",
       "      <td>NaN</td>\n",
       "      <td>0.222222</td>\n",
       "      <td>6.166667</td>\n",
       "      <td>4.611111</td>\n",
       "      <td>6.000000</td>\n",
       "      <td>3.111111</td>\n",
       "      <td>485.111111</td>\n",
       "      <td>0.333333</td>\n",
       "      <td>0.555556</td>\n",
       "    </tr>\n",
       "    <tr>\n",
       "      <th>Other</th>\n",
       "      <td>5356.838196</td>\n",
       "      <td>35.013263</td>\n",
       "      <td>0.063660</td>\n",
       "      <td>2.949602</td>\n",
       "      <td>0.058355</td>\n",
       "      <td>0.042440</td>\n",
       "      <td>1.875332</td>\n",
       "      <td>10.147222</td>\n",
       "      <td>33.212766</td>\n",
       "      <td>0.379310</td>\n",
       "      <td>19.242424</td>\n",
       "      <td>NaN</td>\n",
       "      <td>0.100796</td>\n",
       "      <td>2.949602</td>\n",
       "      <td>2.846154</td>\n",
       "      <td>1.875332</td>\n",
       "      <td>8.665782</td>\n",
       "      <td>648.909814</td>\n",
       "      <td>0.312997</td>\n",
       "      <td>0.352785</td>\n",
       "    </tr>\n",
       "  </tbody>\n",
       "</table>\n",
       "</div>"
      ],
      "text/plain": [
       "                           id        age  juv_fel_count  decile_score  \\\n",
       "Z                                                                       \n",
       "African-American  5524.856872  32.740801       0.100108      5.368777   \n",
       "Asian             5770.093750  37.781250       0.000000      2.937500   \n",
       "Caucasian         5488.236349  37.726569       0.026487      3.735126   \n",
       "Hispanic          5518.141287  35.455259       0.032967      3.463108   \n",
       "Native American   4379.388889  32.888889       0.277778      6.166667   \n",
       "Other             5356.838196  35.013263       0.063660      2.949602   \n",
       "\n",
       "                  juv_misd_count  juv_other_count  priors_count  \\\n",
       "Z                                                                 \n",
       "African-American        0.136364         0.135011      4.438853   \n",
       "Asian                   0.031250         0.031250      1.437500   \n",
       "Caucasian               0.041972         0.092095      2.586797   \n",
       "Hispanic                0.039246         0.067504      2.252747   \n",
       "Native American         0.055556         0.222222      6.000000   \n",
       "Other                   0.058355         0.042440      1.875332   \n",
       "\n",
       "                  days_b_screening_arrest  c_days_from_compas  is_recid  \\\n",
       "Z                                                                         \n",
       "African-American                 5.190557           72.087605  0.550866   \n",
       "Asian                           -4.843750            1.812500  0.343750   \n",
       "Caucasian                       -0.120690           36.843610  0.417685   \n",
       "Hispanic                         2.429795           72.448494  0.384615   \n",
       "Native American                -10.187500           54.470588  0.611111   \n",
       "Other                           10.147222           33.212766  0.379310   \n",
       "\n",
       "                  r_days_from_arrest  violent_recid    Y_true    Y_pred  \\\n",
       "Z                                                                         \n",
       "African-American           19.529933            NaN  0.133929  5.368777   \n",
       "Asian                       0.166667            NaN  0.125000  2.937500   \n",
       "Caucasian                  22.033803            NaN  0.090465  3.735126   \n",
       "Hispanic                   17.676056            NaN  0.087912  3.463108   \n",
       "Native American            76.666667            NaN  0.222222  6.166667   \n",
       "Other                      19.242424            NaN  0.100796  2.949602   \n",
       "\n",
       "                  v_decile_score  priors_count.1      start         end  \\\n",
       "Z                                                                         \n",
       "African-American        4.391234        4.438853  13.959957  504.777056   \n",
       "Asian                   2.437500        1.437500  21.781250  747.343750   \n",
       "Caucasian               2.948655        2.586797   8.609209  589.662999   \n",
       "Hispanic                3.034537        2.252747   9.365777  631.894819   \n",
       "Native American         4.611111        6.000000   3.111111  485.111111   \n",
       "Other                   2.846154        1.875332   8.665782  648.909814   \n",
       "\n",
       "                     event  two_year_recid  \n",
       "Z                                           \n",
       "African-American  0.435065        0.514340  \n",
       "Asian             0.250000        0.281250  \n",
       "Caucasian         0.332518        0.393643  \n",
       "Hispanic          0.323391        0.364207  \n",
       "Native American   0.333333        0.555556  \n",
       "Other             0.312997        0.352785  "
      ]
     },
     "execution_count": 155,
     "metadata": {},
     "output_type": "execute_result"
    }
   ],
   "source": [
    "df.groupby('Z').mean()"
   ]
  },
  {
   "cell_type": "code",
   "execution_count": 156,
   "metadata": {},
   "outputs": [
    {
     "data": {
      "text/plain": [
       "array([[<matplotlib.axes._subplots.AxesSubplot object at 0x1243749e8>,\n",
       "        <matplotlib.axes._subplots.AxesSubplot object at 0x12439ea20>],\n",
       "       [<matplotlib.axes._subplots.AxesSubplot object at 0x12474b9b0>,\n",
       "        <matplotlib.axes._subplots.AxesSubplot object at 0x1247859e8>],\n",
       "       [<matplotlib.axes._subplots.AxesSubplot object at 0x1247bdac8>,\n",
       "        <matplotlib.axes._subplots.AxesSubplot object at 0x1247bdb00>]],\n",
       "      dtype=object)"
      ]
     },
     "execution_count": 156,
     "metadata": {},
     "output_type": "execute_result"
    },
    {
     "data": {
      "image/png": "[encoded data removed]",
      "text/plain": [
       "<matplotlib.figure.Figure at 0x124374198>"
      ]
     },
     "metadata": {},
     "output_type": "display_data"
    }
   ],
   "source": [
    "df['Y_pred'].hist(by=df['Z'],xlabelsize = 0)"
   ]
  },
  {
   "cell_type": "code",
   "execution_count": 157,
   "metadata": {},
   "outputs": [
    {
     "data": {
      "text/plain": [
       "Index(['id', 'name', 'first', 'last', 'compas_screening_date', 'sex', 'dob',\n",
       "       'age', 'age_cat', 'Z', 'juv_fel_count', 'decile_score',\n",
       "       'juv_misd_count', 'juv_other_count', 'priors_count',\n",
       "       'days_b_screening_arrest', 'c_jail_in', 'c_jail_out', 'c_case_number',\n",
       "       'c_offense_date', 'c_arrest_date', 'c_days_from_compas',\n",
       "       'c_charge_degree', 'c_charge_desc', 'is_recid', 'r_case_number',\n",
       "       'r_charge_degree', 'r_days_from_arrest', 'r_offense_date',\n",
       "       'r_charge_desc', 'r_jail_in', 'r_jail_out', 'violent_recid', 'Y_true',\n",
       "       'vr_case_number', 'vr_charge_degree', 'vr_offense_date',\n",
       "       'vr_charge_desc', 'type_of_assessment', 'Y_pred', 'score_text',\n",
       "       'screening_date', 'v_type_of_assessment', 'v_decile_score',\n",
       "       'v_score_text', 'v_screening_date', 'in_custody', 'out_custody',\n",
       "       'priors_count.1', 'start', 'end', 'event', 'two_year_recid',\n",
       "       'score_factor'],\n",
       "      dtype='object')"
      ]
     },
     "execution_count": 157,
     "metadata": {},
     "output_type": "execute_result"
    }
   ],
   "source": [
    "df = df.query('days_b_screening_arrest >= -30').query('days_b_screening_arrest <= 30').query('is_recid != -1').query('c_charge_degree != \"O\"').query(\"score_text != 'N/A'\")\n",
    "df['score_factor'] = [d < 5 for d in df['Y_pred'].values]\n",
    "df.columns"
   ]
  },
  {
   "cell_type": "code",
   "execution_count": 158,
   "metadata": {},
   "outputs": [
    {
     "name": "stdout",
     "output_type": "stream",
     "text": [
      "                                       Generalized Linear Model Regression Results                                       \n",
      "=========================================================================================================================\n",
      "Dep. Variable:     ['score_text[High]', 'score_text[Low]', 'score_text[Medium]']   No. Observations:                 6172\n",
      "Model:                                                                       GLM   Df Residuals:                     6160\n",
      "Model Family:                                                           Binomial   Df Model:                           11\n",
      "Link Function:                                                             logit   Scale:                          1.0000\n",
      "Method:                                                                     IRLS   Log-Likelihood:                -2234.5\n",
      "Date:                                                           Tue, 03 Jul 2018   Deviance:                       4468.9\n",
      "Time:                                                                   15:19:53   Pearson chi2:                 6.02e+03\n",
      "No. Iterations:                                                                6   Covariance Type:             nonrobust\n",
      "==============================================================================================================================\n",
      "                                                                 coef    std err          z      P>|z|      [0.025      0.975]\n",
      "------------------------------------------------------------------------------------------------------------------------------\n",
      "Intercept                                                     -3.1531      0.133    -23.676      0.000      -3.414      -2.892\n",
      "C(c_charge_degree)[T.M]                                       -0.3789      0.087     -4.331      0.000      -0.550      -0.207\n",
      "C(Z, Treatment(reference='Caucasian'))[T.African-American]     0.5508      0.091      6.057      0.000       0.373       0.729\n",
      "C(Z, Treatment(reference='Caucasian'))[T.Asian]                0.3354      0.646      0.519      0.604      -0.932       1.602\n",
      "C(Z, Treatment(reference='Caucasian'))[T.Hispanic]            -0.3167      0.186     -1.706      0.088      -0.680       0.047\n",
      "C(Z, Treatment(reference='Caucasian'))[T.Native American]      1.2347      0.712      1.734      0.083      -0.161       2.631\n",
      "C(Z, Treatment(reference='Caucasian'))[T.Other]               -0.6654      0.253     -2.635      0.008      -1.160      -0.170\n",
      "C(sex)[T.Male]                                                 0.1291      0.106      1.215      0.224      -0.079       0.337\n",
      "C(age_cat)[T.Greater than 45]                                 -1.5644      0.152    -10.303      0.000      -1.862      -1.267\n",
      "C(age_cat)[T.Less than 25]                                     1.1185      0.089     12.565      0.000       0.944       1.293\n",
      "C(two_year_recid)[T.1]                                         0.8315      0.082     10.166      0.000       0.671       0.992\n",
      "priors_count                                                   0.1874      0.009     21.436      0.000       0.170       0.204\n",
      "==============================================================================================================================\n"
     ]
    }
   ],
   "source": [
    "import statsmodels.api as sm\n",
    "model = sm.formula.glm(\"score_text ~ C(c_charge_degree) + C(Z, Treatment(reference = 'Caucasian'))+ C(sex)+C(age_cat)+priors_count + C(two_year_recid)\",\n",
    "                       family=sm.families.Binomial(), data=df).fit()\n",
    "print(model.summary())"
   ]
  },
  {
   "cell_type": "code",
   "execution_count": 18,
   "metadata": {},
   "outputs": [
    {
     "data": {
      "text/plain": [
       "(array([5., 0., 0., 0., 0., 0., 0., 0., 0., 0., 0., 0., 0., 0., 0., 5., 0.,\n",
       "        0., 0., 0., 0., 0., 0., 0., 0., 0., 0., 0., 0., 5.]),\n",
       " array([1.        , 1.06666667, 1.13333333, 1.2       , 1.26666667,\n",
       "        1.33333333, 1.4       , 1.46666667, 1.53333333, 1.6       ,\n",
       "        1.66666667, 1.73333333, 1.8       , 1.86666667, 1.93333333,\n",
       "        2.        , 2.06666667, 2.13333333, 2.2       , 2.26666667,\n",
       "        2.33333333, 2.4       , 2.46666667, 2.53333333, 2.6       ,\n",
       "        2.66666667, 2.73333333, 2.8       , 2.86666667, 2.93333333,\n",
       "        3.        ]),\n",
       " <a list of 30 Patch objects>)"
      ]
     },
     "execution_count": 18,
     "metadata": {},
     "output_type": "execute_result"
    },
    {
     "data": {
      "image/png": "[encoded data removed]",
      "text/plain": [
       "<matplotlib.figure.Figure at 0x1091310b8>"
      ]
     },
     "metadata": {},
     "output_type": "display_data"
    }
   ],
   "source": [
    "plt.hist([1,2,3], normed=True, bins=30,color='#00AEEF')"
   ]
  },
  {
   "cell_type": "code",
   "execution_count": 7,
   "metadata": {},
   "outputs": [],
   "source": [
    "datum = box[d]"
   ]
  },
  {
   "cell_type": "code",
   "execution_count": 13,
   "metadata": {},
   "outputs": [
    {
     "name": "stdout",
     "output_type": "stream",
     "text": [
      "Google classifier mean is 1.28125 for stimulus standard\n"
     ]
    }
   ],
   "source": [
    "for m in models:\n",
    "    print(\"{} classifier mean is {} for stimulus {}\".format(m.capitalize(), datum[m].mean(),d))\t\t"
   ]
  },
  {
   "cell_type": "code",
   "execution_count": 10,
   "metadata": {},
   "outputs": [
    {
     "data": {
      "text/plain": [
       "'Google'"
      ]
     },
     "execution_count": 10,
     "metadata": {},
     "output_type": "execute_result"
    }
   ],
   "source": [
    "m.capitalize()"
   ]
  },
  {
   "cell_type": "code",
   "execution_count": 12,
   "metadata": {},
   "outputs": [
    {
     "data": {
      "text/plain": [
       "1.28125"
      ]
     },
     "execution_count": 12,
     "metadata": {},
     "output_type": "execute_result"
    }
   ],
   "source": [
    "datum[m].mean()"
   ]
  },
  {
   "cell_type": "code",
   "execution_count": null,
   "metadata": {},
   "outputs": [],
   "source": []
  }
 ],
 "metadata": {
  "kernelspec": {
   "display_name": "Python 3",
   "language": "python",
   "name": "python3"
  },
  "language_info": {
   "codemirror_mode": {
    "name": "ipython",
    "version": 3
   },
   "file_extension": ".py",
   "mimetype": "text/x-python",
   "name": "python",
   "nbconvert_exporter": "python",
   "pygments_lexer": "ipython3",
   "version": "3.6.4"
  }
 },
 "nbformat": 4,
 "nbformat_minor": 2
}
