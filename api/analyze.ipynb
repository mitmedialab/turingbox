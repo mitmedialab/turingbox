{
 "cells": [
  {
   "cell_type": "code",
   "execution_count": 5,
   "metadata": {},
   "outputs": [
    {
     "data": {
      "application/javascript": [
       "IPython.notebook.kernel.execute(\"URL = '\" + window.location + \"'\");"
      ],
      "text/plain": [
       "<IPython.core.display.Javascript object>"
      ]
     },
     "metadata": {},
     "output_type": "display_data"
    }
   ],
   "source": [
    "%%javascript\n",
    "IPython.notebook.kernel.execute(\"URL = '\" + window.location + \"'\");"
   ]
  },
  {
   "cell_type": "code",
   "execution_count": 6,
   "metadata": {},
   "outputs": [
    {
     "name": "stdout",
     "output_type": "stream",
     "text": [
      "The rpy2.ipython extension is already loaded. To reload it, use:\n",
      "  %reload_ext rpy2.ipython\n"
     ]
    }
   ],
   "source": [
    "%matplotlib inline  \n",
    "%load_ext rpy2.ipython\n",
    "from utils import init; df = init(URL)"
   ]
  },
  {
   "cell_type": "code",
   "execution_count": 7,
   "metadata": {},
   "outputs": [
    {
     "data": {
      "text/html": [
       "<div>\n",
       "<style scoped>\n",
       "    .dataframe tbody tr th:only-of-type {\n",
       "        vertical-align: middle;\n",
       "    }\n",
       "\n",
       "    .dataframe tbody tr th {\n",
       "        vertical-align: top;\n",
       "    }\n",
       "\n",
       "    .dataframe thead th {\n",
       "        text-align: right;\n",
       "    }\n",
       "</style>\n",
       "<table border=\"1\" class=\"dataframe\">\n",
       "  <thead>\n",
       "    <tr style=\"text-align: right;\">\n",
       "      <th></th>\n",
       "      <th>Unnamed: 0</th>\n",
       "      <th>Y_true</th>\n",
       "      <th>Y_pred</th>\n",
       "    </tr>\n",
       "    <tr>\n",
       "      <th>Z</th>\n",
       "      <th></th>\n",
       "      <th></th>\n",
       "      <th></th>\n",
       "    </tr>\n",
       "  </thead>\n",
       "  <tbody>\n",
       "    <tr>\n",
       "      <th>m</th>\n",
       "      <td>502.023132</td>\n",
       "      <td>0.759786</td>\n",
       "      <td>0.0</td>\n",
       "    </tr>\n",
       "    <tr>\n",
       "      <th>o</th>\n",
       "      <td>500.095477</td>\n",
       "      <td>0.824121</td>\n",
       "      <td>0.0</td>\n",
       "    </tr>\n",
       "    <tr>\n",
       "      <th>y</th>\n",
       "      <td>493.071130</td>\n",
       "      <td>0.761506</td>\n",
       "      <td>0.0</td>\n",
       "    </tr>\n",
       "  </tbody>\n",
       "</table>\n",
       "</div>"
      ],
      "text/plain": [
       "   Unnamed: 0    Y_true  Y_pred\n",
       "Z                              \n",
       "m  502.023132  0.759786     0.0\n",
       "o  500.095477  0.824121     0.0\n",
       "y  493.071130  0.761506     0.0"
      ]
     },
     "execution_count": 7,
     "metadata": {},
     "output_type": "execute_result"
    }
   ],
   "source": [
    "df.groupby('Z').mean()"
   ]
  },
  {
   "cell_type": "code",
   "execution_count": 8,
   "metadata": {},
   "outputs": [
    {
     "data": {
      "text/plain": [
       "array([[<matplotlib.axes._subplots.AxesSubplot object at 0x110ac9780>,\n",
       "        <matplotlib.axes._subplots.AxesSubplot object at 0x10a0d1b38>],\n",
       "       [<matplotlib.axes._subplots.AxesSubplot object at 0x10a10cb38>,\n",
       "        <matplotlib.axes._subplots.AxesSubplot object at 0x10a146b38>]],\n",
       "      dtype=object)"
      ]
     },
     "execution_count": 8,
     "metadata": {},
     "output_type": "execute_result"
    },
    {
     "data": {
      "image/png": "[encoded data removed]",
      "text/plain": [
       "<matplotlib.figure.Figure at 0x110c399e8>"
      ]
     },
     "metadata": {},
     "output_type": "display_data"
    }
   ],
   "source": [
    "df['Y_pred'].hist(by=df['Z'],xlabelsize = 0)"
   ]
  },
  {
   "cell_type": "code",
   "execution_count": 157,
   "metadata": {},
   "outputs": [
    {
     "data": {
      "text/plain": [
       "Index(['id', 'name', 'first', 'last', 'compas_screening_date', 'sex', 'dob',\n",
       "       'age', 'age_cat', 'Z', 'juv_fel_count', 'decile_score',\n",
       "       'juv_misd_count', 'juv_other_count', 'priors_count',\n",
       "       'days_b_screening_arrest', 'c_jail_in', 'c_jail_out', 'c_case_number',\n",
       "       'c_offense_date', 'c_arrest_date', 'c_days_from_compas',\n",
       "       'c_charge_degree', 'c_charge_desc', 'is_recid', 'r_case_number',\n",
       "       'r_charge_degree', 'r_days_from_arrest', 'r_offense_date',\n",
       "       'r_charge_desc', 'r_jail_in', 'r_jail_out', 'violent_recid', 'Y_true',\n",
       "       'vr_case_number', 'vr_charge_degree', 'vr_offense_date',\n",
       "       'vr_charge_desc', 'type_of_assessment', 'Y_pred', 'score_text',\n",
       "       'screening_date', 'v_type_of_assessment', 'v_decile_score',\n",
       "       'v_score_text', 'v_screening_date', 'in_custody', 'out_custody',\n",
       "       'priors_count.1', 'start', 'end', 'event', 'two_year_recid',\n",
       "       'score_factor'],\n",
       "      dtype='object')"
      ]
     },
     "execution_count": 157,
     "metadata": {},
     "output_type": "execute_result"
    }
   ],
   "source": [
    "df = df.query('days_b_screening_arrest >= -30').query('days_b_screening_arrest <= 30').query('is_recid != -1').query('c_charge_degree != \"O\"').query(\"score_text != 'N/A'\")\n",
    "df['score_factor'] = [d < 5 for d in df['Y_pred'].values]\n",
    "df.columns"
   ]
  },
  {
   "cell_type": "code",
   "execution_count": 158,
   "metadata": {},
   "outputs": [
    {
     "name": "stdout",
     "output_type": "stream",
     "text": [
      "                                       Generalized Linear Model Regression Results                                       \n",
      "=========================================================================================================================\n",
      "Dep. Variable:     ['score_text[High]', 'score_text[Low]', 'score_text[Medium]']   No. Observations:                 6172\n",
      "Model:                                                                       GLM   Df Residuals:                     6160\n",
      "Model Family:                                                           Binomial   Df Model:                           11\n",
      "Link Function:                                                             logit   Scale:                          1.0000\n",
      "Method:                                                                     IRLS   Log-Likelihood:                -2234.5\n",
      "Date:                                                           Tue, 03 Jul 2018   Deviance:                       4468.9\n",
      "Time:                                                                   15:19:53   Pearson chi2:                 6.02e+03\n",
      "No. Iterations:                                                                6   Covariance Type:             nonrobust\n",
      "==============================================================================================================================\n",
      "                                                                 coef    std err          z      P>|z|      [0.025      0.975]\n",
      "------------------------------------------------------------------------------------------------------------------------------\n",
      "Intercept                                                     -3.1531      0.133    -23.676      0.000      -3.414      -2.892\n",
      "C(c_charge_degree)[T.M]                                       -0.3789      0.087     -4.331      0.000      -0.550      -0.207\n",
      "C(Z, Treatment(reference='Caucasian'))[T.African-American]     0.5508      0.091      6.057      0.000       0.373       0.729\n",
      "C(Z, Treatment(reference='Caucasian'))[T.Asian]                0.3354      0.646      0.519      0.604      -0.932       1.602\n",
      "C(Z, Treatment(reference='Caucasian'))[T.Hispanic]            -0.3167      0.186     -1.706      0.088      -0.680       0.047\n",
      "C(Z, Treatment(reference='Caucasian'))[T.Native American]      1.2347      0.712      1.734      0.083      -0.161       2.631\n",
      "C(Z, Treatment(reference='Caucasian'))[T.Other]               -0.6654      0.253     -2.635      0.008      -1.160      -0.170\n",
      "C(sex)[T.Male]                                                 0.1291      0.106      1.215      0.224      -0.079       0.337\n",
      "C(age_cat)[T.Greater than 45]                                 -1.5644      0.152    -10.303      0.000      -1.862      -1.267\n",
      "C(age_cat)[T.Less than 25]                                     1.1185      0.089     12.565      0.000       0.944       1.293\n",
      "C(two_year_recid)[T.1]                                         0.8315      0.082     10.166      0.000       0.671       0.992\n",
      "priors_count                                                   0.1874      0.009     21.436      0.000       0.170       0.204\n",
      "==============================================================================================================================\n"
     ]
    }
   ],
   "source": [
    "import statsmodels.api as sm\n",
    "model = sm.formula.glm(\"score_text ~ C(c_charge_degree) + C(Z, Treatment(reference = 'Caucasian'))+ C(sex)+C(age_cat)+priors_count + C(two_year_recid)\",\n",
    "                       family=sm.families.Binomial(), data=df).fit()\n",
    "print(model.summary())"
   ]
  },
  {
   "cell_type": "code",
   "execution_count": 18,
   "metadata": {},
   "outputs": [
    {
     "data": {
      "text/plain": [
       "(array([5., 0., 0., 0., 0., 0., 0., 0., 0., 0., 0., 0., 0., 0., 0., 5., 0.,\n",
       "        0., 0., 0., 0., 0., 0., 0., 0., 0., 0., 0., 0., 5.]),\n",
       " array([1.        , 1.06666667, 1.13333333, 1.2       , 1.26666667,\n",
       "        1.33333333, 1.4       , 1.46666667, 1.53333333, 1.6       ,\n",
       "        1.66666667, 1.73333333, 1.8       , 1.86666667, 1.93333333,\n",
       "        2.        , 2.06666667, 2.13333333, 2.2       , 2.26666667,\n",
       "        2.33333333, 2.4       , 2.46666667, 2.53333333, 2.6       ,\n",
       "        2.66666667, 2.73333333, 2.8       , 2.86666667, 2.93333333,\n",
       "        3.        ]),\n",
       " <a list of 30 Patch objects>)"
      ]
     },
     "execution_count": 18,
     "metadata": {},
     "output_type": "execute_result"
    },
    {
     "data": {
      "image/png": "[encoded data removed]",
      "text/plain": [
       "<matplotlib.figure.Figure at 0x1091310b8>"
      ]
     },
     "metadata": {},
     "output_type": "display_data"
    }
   ],
   "source": [
    "plt.hist([1,2,3], normed=True, bins=30,color='#00AEEF')"
   ]
  },
  {
   "cell_type": "code",
   "execution_count": 7,
   "metadata": {},
   "outputs": [],
   "source": [
    "datum = box[d]"
   ]
  },
  {
   "cell_type": "code",
   "execution_count": 13,
   "metadata": {},
   "outputs": [
    {
     "name": "stdout",
     "output_type": "stream",
     "text": [
      "Google classifier mean is 1.28125 for stimulus standard\n"
     ]
    }
   ],
   "source": [
    "for m in models:\n",
    "    print(\"{} classifier mean is {} for stimulus {}\".format(m.capitalize(), datum[m].mean(),d))\t\t"
   ]
  },
  {
   "cell_type": "code",
   "execution_count": 10,
   "metadata": {},
   "outputs": [
    {
     "data": {
      "text/plain": [
       "'Google'"
      ]
     },
     "execution_count": 10,
     "metadata": {},
     "output_type": "execute_result"
    }
   ],
   "source": [
    "m.capitalize()"
   ]
  },
  {
   "cell_type": "code",
   "execution_count": 12,
   "metadata": {},
   "outputs": [
    {
     "data": {
      "text/plain": [
       "1.28125"
      ]
     },
     "execution_count": 12,
     "metadata": {},
     "output_type": "execute_result"
    }
   ],
   "source": [
    "datum[m].mean()"
   ]
  },
  {
   "cell_type": "code",
   "execution_count": null,
   "metadata": {},
   "outputs": [],
   "source": []
  }
 ],
 "metadata": {
  "kernelspec": {
   "display_name": "Python 3",
   "language": "python",
   "name": "python3"
  },
  "language_info": {
   "codemirror_mode": {
    "name": "ipython",
    "version": 3
   },
   "file_extension": ".py",
   "mimetype": "text/x-python",
   "name": "python",
   "nbconvert_exporter": "python",
   "pygments_lexer": "ipython3",
   "version": "3.6.4"
  }
 },
 "nbformat": 4,
 "nbformat_minor": 2
}
