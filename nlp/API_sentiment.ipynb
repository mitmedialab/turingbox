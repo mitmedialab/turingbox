{
 "cells": [
  {
   "cell_type": "code",
   "execution_count": 1,
   "metadata": {
    "collapsed": true
   },
   "outputs": [],
   "source": [
    "import requests\n",
    "import numpy as np\n",
    "import csv \n",
    "import pandas as pd"
   ]
  },
  {
   "cell_type": "code",
   "execution_count": 22,
   "metadata": {
    "collapsed": true
   },
   "outputs": [],
   "source": [
    "AZURE_SUBSCRIPTION_KEY = \"3e8bfdcfae0c41569d5c54ec94e8503a\"\n",
    "AZURE_ENDPOINT = \"https://westus2.api.cognitive.microsoft.com/text/analytics/v2.0/\""
   ]
  },
  {
   "cell_type": "code",
   "execution_count": 23,
   "metadata": {
    "collapsed": true
   },
   "outputs": [],
   "source": [
    "def run_azure(input_array):\n",
    "        headers = { 'Ocp-Apim-Subscription-Key' : AZURE_SUBSCRIPTION_KEY }\n",
    "        sentiment_api_url =  AZURE_ENDPOINT + \"sentiment\"\n",
    "        docs = []\n",
    "        assert(len(input_array.flatten()) < 1000)\n",
    "        for i, input_text in enumerate(input_array.flatten()):\n",
    "            docs.append({'id' : str(i+1), 'language' : 'en', 'text' : input_text})\n",
    "        documents = { 'documents' : docs }\n",
    "        response = requests.post(sentiment_api_url, headers=headers, json=documents)\n",
    "        sentiments = response.json()\n",
    "        print(sentiments)\n",
    "        scores = [x['score'] for x in sentiments['documents']]\n",
    "        scores = np.array(scores)\n",
    "        return scores.reshape(input_array.shape)"
   ]
  },
  {
   "cell_type": "code",
   "execution_count": 24,
   "metadata": {},
   "outputs": [
    {
     "name": "stdout",
     "output_type": "stream",
     "text": [
      "{'documents': [{'score': 0.7778275609016418, 'id': '1'}, {'score': 0.7778275609016418, 'id': '2'}], 'errors': []}\n",
      "[0.77782756 0.77782756]\n"
     ]
    }
   ],
   "source": [
    "inputs = [\"this is a text\", \"this is another text\"]\n",
    "input_array = np.array(inputs)\n",
    "result = run(input_array)\n",
    "print(result)"
   ]
  },
  {
   "cell_type": "code",
   "execution_count": 34,
   "metadata": {
    "collapsed": true
   },
   "outputs": [],
   "source": [
    "def write_results(tweet_list, label_list, api_func, save_file): \n",
    "    with open(save_file, 'w') as f: \n",
    "        csv_writer = csv.writer(f)\n",
    "        csv_writer.writerow([\"text\", \"label\", str(api_func)])\n",
    "        sentiment = api_func(np.array(tweet_list))\n",
    "        for i, twt in enumerate(tweet_list): \n",
    "            csv_writer.writerow([twt, label_list[i], sentiment[i]])"
   ]
  },
  {
   "cell_type": "code",
   "execution_count": null,
   "metadata": {
    "collapsed": true
   },
   "outputs": [],
   "source": []
  },
  {
   "cell_type": "code",
   "execution_count": 38,
   "metadata": {
    "collapsed": true
   },
   "outputs": [
    {
     "name": "stdout",
     "output_type": "stream",
     "text": [
      "{'documents': [{'score': 0.9631977081298828, 'id': '1'}, {'score': 0.8952233791351318, 'id': '2'}, {'score': 0.20380455255508423, 'id': '3'}, {'score': 0.16436517238616943, 'id': '4'}, {'score': 0.9923532009124756, 'id': '5'}, {'score': 0.7719802856445312, 'id': '6'}, {'score': 0.8556222915649414, 'id': '7'}, {'score': 0.9133977293968201, 'id': '8'}, {'score': 0.07152354717254639, 'id': '9'}, {'score': 0.7941385507583618, 'id': '10'}, {'score': 0.7449294328689575, 'id': '11'}, {'score': 0.11761602759361267, 'id': '12'}, {'score': 0.5, 'id': '13'}, {'score': 0.9036202430725098, 'id': '14'}, {'score': 0.9851231575012207, 'id': '15'}, {'score': 0.1201251745223999, 'id': '16'}, {'score': 0.8197458982467651, 'id': '17'}, {'score': 0.05911615490913391, 'id': '18'}, {'score': 0.8487657904624939, 'id': '19'}, {'score': 0.20968815684318542, 'id': '20'}, {'score': 0.5, 'id': '21'}, {'score': 0.5, 'id': '22'}, {'score': 0.8717667460441589, 'id': '23'}, {'score': 0.5, 'id': '24'}, {'score': 0.5, 'id': '25'}, {'score': 0.15389519929885864, 'id': '26'}, {'score': 0.28403761982917786, 'id': '27'}, {'score': 0.8664541244506836, 'id': '28'}, {'score': 0.8701887130737305, 'id': '29'}, {'score': 0.9114536643028259, 'id': '30'}, {'score': 0.2450791597366333, 'id': '31'}, {'score': 0.20686575770378113, 'id': '32'}, {'score': 0.9449660778045654, 'id': '33'}, {'score': 0.005578964948654175, 'id': '34'}, {'score': 0.05237853527069092, 'id': '35'}, {'score': 0.8926951289176941, 'id': '36'}, {'score': 0.8967784643173218, 'id': '37'}, {'score': 0.7654719352722168, 'id': '38'}, {'score': 0.9845120906829834, 'id': '39'}, {'score': 0.999065101146698, 'id': '40'}, {'score': 0.9296788573265076, 'id': '41'}, {'score': 0.9957691431045532, 'id': '42'}, {'score': 0.7818424105644226, 'id': '43'}, {'score': 0.05898714065551758, 'id': '44'}, {'score': 0.9740152359008789, 'id': '45'}, {'score': 0.8988368511199951, 'id': '46'}, {'score': 0.02855229377746582, 'id': '47'}, {'score': 0.14913848042488098, 'id': '48'}, {'score': 0.9394224882125854, 'id': '49'}, {'score': 0.7315756678581238, 'id': '50'}, {'score': 0.9541682600975037, 'id': '51'}, {'score': 0.9881469011306763, 'id': '52'}, {'score': 0.7348940968513489, 'id': '53'}, {'score': 0.5, 'id': '54'}, {'score': 0.6939096450805664, 'id': '55'}, {'score': 0.8837939500808716, 'id': '56'}, {'score': 0.21790674328804016, 'id': '57'}, {'score': 0.10419812798500061, 'id': '58'}, {'score': 0.297865092754364, 'id': '59'}, {'score': 0.6877590417861938, 'id': '60'}, {'score': 0.05118560791015625, 'id': '61'}, {'score': 0.872143566608429, 'id': '62'}, {'score': 0.9998260736465454, 'id': '63'}, {'score': 0.9965062737464905, 'id': '64'}, {'score': 0.8420228958129883, 'id': '65'}, {'score': 0.9997963309288025, 'id': '66'}, {'score': 0.04372793436050415, 'id': '67'}, {'score': 0.9737040400505066, 'id': '68'}, {'score': 0.5, 'id': '69'}, {'score': 0.9873303174972534, 'id': '70'}, {'score': 0.7972910404205322, 'id': '71'}, {'score': 0.15547439455986023, 'id': '72'}, {'score': 0.10274600982666016, 'id': '73'}, {'score': 0.9760361313819885, 'id': '74'}, {'score': 0.8644092082977295, 'id': '75'}, {'score': 0.04026186466217041, 'id': '76'}, {'score': 0.16275358200073242, 'id': '77'}, {'score': 0.21754658222198486, 'id': '78'}, {'score': 0.2270786166191101, 'id': '79'}, {'score': 0.003535449504852295, 'id': '80'}, {'score': 0.10102313756942749, 'id': '81'}, {'score': 0.9732495546340942, 'id': '82'}, {'score': 0.24198779463768005, 'id': '83'}, {'score': 0.2440619170665741, 'id': '84'}, {'score': 0.7813631296157837, 'id': '85'}, {'score': 0.16862663626670837, 'id': '86'}, {'score': 0.14665481448173523, 'id': '87'}, {'score': 0.05354267358779907, 'id': '88'}, {'score': 0.19027656316757202, 'id': '89'}, {'score': 0.12302327156066895, 'id': '90'}, {'score': 0.8003566861152649, 'id': '91'}, {'score': 0.9403072595596313, 'id': '92'}, {'score': 0.9032189846038818, 'id': '93'}, {'score': 0.25656992197036743, 'id': '94'}, {'score': 0.8973038792610168, 'id': '95'}, {'score': 0.9957150816917419, 'id': '96'}, {'score': 0.8041485548019409, 'id': '97'}, {'score': 0.16221901774406433, 'id': '98'}, {'score': 0.20014223456382751, 'id': '99'}, {'score': 0.973792314529419, 'id': '100'}], 'errors': []}\n"
     ]
    }
   ],
   "source": [
    "tweets = [] \n",
    "labels = [] \n",
    "\n",
    "with open('datasets/twitter_sentiment100.csv', 'r') as f: \n",
    "    csv_reader = csv.reader(f)\n",
    "    row = next(csv_reader)\n",
    "    for row in csv_reader: \n",
    "        tweets.append(row[0])\n",
    "        labels.append(row[1])\n",
    "\n",
    "write_results(tweets, labels, run_azure, 'results/twitter_sentiment100_results.csv')"
   ]
  },
  {
   "cell_type": "code",
   "execution_count": 20,
   "metadata": {},
   "outputs": [
    {
     "name": "stdout",
     "output_type": "stream",
     "text": [
      "label              0.410000\n",
      "Azure Sentiment    0.570582\n",
      "g_sentiment       -0.025000\n",
      "g_magnitude        0.524000\n",
      "dtype: float64\n",
      "label              0.049431\n",
      "Azure Sentiment    0.034112\n",
      "g_sentiment        0.060275\n",
      "g_magnitude        0.030686\n",
      "dtype: float64\n"
     ]
    }
   ],
   "source": [
    "df = pd.read_csv('results/sst_sentiment100_results.csv')\n",
    "print(df.mean()) \n",
    "print(df.sem())"
   ]
  },
  {
   "cell_type": "code",
   "execution_count": 21,
   "metadata": {},
   "outputs": [],
   "source": [
    "label = df['label'].tolist() \n",
    "pred = df['g_sentiment'].tolist()"
   ]
  },
  {
   "cell_type": "code",
   "execution_count": 22,
   "metadata": {},
   "outputs": [
    {
     "name": "stdout",
     "output_type": "stream",
     "text": [
      "Accuracy 0.81\n"
     ]
    }
   ],
   "source": [
    "label = np.asarray(label)\n",
    "new_pred = [] \n",
    "for p in pred: \n",
    "    if float(p) > 0: \n",
    "        new_pred.append(1)\n",
    "    else: \n",
    "        new_pred.append(0)\n",
    "pred = np.asarray(new_pred)\n",
    "pred = np.around(pred)\n",
    "acc = np.sum(pred==label)\n",
    "print(\"Accuracy\", acc/len(label))"
   ]
  }
 ],
 "metadata": {
  "kernelspec": {
   "display_name": "Python_torch",
   "language": "python",
   "name": "pytorch36"
  },
  "language_info": {
   "codemirror_mode": {
    "name": "ipython",
    "version": 3
   },
   "file_extension": ".py",
   "mimetype": "text/x-python",
   "name": "python",
   "nbconvert_exporter": "python",
   "pygments_lexer": "ipython3",
   "version": "3.6.5"
  }
 },
 "nbformat": 4,
 "nbformat_minor": 2
}
