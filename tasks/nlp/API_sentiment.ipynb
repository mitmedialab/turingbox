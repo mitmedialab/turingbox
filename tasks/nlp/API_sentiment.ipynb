{
 "cells": [
  {
   "cell_type": "code",
   "execution_count": null,
   "metadata": {
    "collapsed": true
   },
   "outputs": [],
   "source": [
    "import requests\n",
    "import numpy as np\n",
    "import csv \n",
    "import pandas as pd\n",
    "from sklearn.naive_bayes import MultinomialNB\n",
    "from sklearn.feature_extraction.text import CountVectorizer\n",
    "import get_sentiment"
   ]
  },
  {
   "cell_type": "code",
   "execution_count": null,
   "metadata": {
    "collapsed": true
   },
   "outputs": [],
   "source": [
    "AZURE_SUBSCRIPTION_KEY = \"\"\n",
    "AZURE_ENDPOINT = \"\""
   ]
  },
  {
   "cell_type": "code",
   "execution_count": null,
   "metadata": {
    "collapsed": true
   },
   "outputs": [],
   "source": [
    "def run_azure(input_array):\n",
    "        headers = { 'Ocp-Apim-Subscription-Key' : AZURE_SUBSCRIPTION_KEY }\n",
    "        sentiment_api_url =  AZURE_ENDPOINT + \"sentiment\"\n",
    "        docs = []\n",
    "        assert(len(input_array.flatten()) < 1000)\n",
    "        for i, input_text in enumerate(input_array.flatten()):\n",
    "            docs.append({'id' : str(i+1), 'language' : 'en', 'text' : input_text})\n",
    "        documents = { 'documents' : docs }\n",
    "        response = requests.post(sentiment_api_url, headers=headers, json=documents)\n",
    "        sentiments = response.json()\n",
    "        print(sentiments)\n",
    "        scores = [x['score'] for x in sentiments['documents']]\n",
    "        scores = np.array(scores)\n",
    "        return scores.reshape(input_array.shape)"
   ]
  },
  {
   "cell_type": "code",
   "execution_count": null,
   "metadata": {},
   "outputs": [],
   "source": [
    "inputs = [\"this is a text\", \"this is another text\"]\n",
    "input_array = np.array(inputs)\n",
    "result = run(input_array)\n",
    "print(result)"
   ]
  },
  {
   "cell_type": "code",
   "execution_count": null,
   "metadata": {
    "collapsed": true
   },
   "outputs": [],
   "source": [
    "def write_results(tweet_list, label_list, api_func, save_file): \n",
    "    with open(save_file, 'w') as f: \n",
    "        csv_writer = csv.writer(f)\n",
    "        csv_writer.writerow([\"text\", \"label\", str(api_func)])\n",
    "        sentiment = api_func(np.array(tweet_list))\n",
    "        for i, twt in enumerate(tweet_list): \n",
    "            csv_writer.writerow([twt, label_list[i], sentiment[i]])"
   ]
  },
  {
   "cell_type": "code",
   "execution_count": null,
   "metadata": {
    "collapsed": true
   },
   "outputs": [],
   "source": []
  },
  {
   "cell_type": "code",
   "execution_count": null,
   "metadata": {},
   "outputs": [],
   "source": [
    "tweets = [] \n",
    "labels = [] \n",
    "\n",
    "with open('datasets/twitter_sentiment100.csv', 'r') as f: \n",
    "    csv_reader = csv.reader(f)\n",
    "    row = next(csv_reader)\n",
    "    for row in csv_reader: \n",
    "        tweets.append(row[0])\n",
    "        labels.append(row[1])\n",
    "\n",
    "write_results(tweets, labels, run_azure, 'results/twitter_sentiment100_results.csv')"
   ]
  },
  {
   "cell_type": "code",
   "execution_count": null,
   "metadata": {},
   "outputs": [],
   "source": [
    "df = pd.read_csv('results/sst_sentiment100_results.csv')\n",
    "print(df.mean()) \n",
    "print(df.sem())"
   ]
  },
  {
   "cell_type": "code",
   "execution_count": null,
   "metadata": {
    "collapsed": true
   },
   "outputs": [],
   "source": [
    "label = df['label'].tolist() \n",
    "pred = df['g_sentiment'].tolist()"
   ]
  },
  {
   "cell_type": "code",
   "execution_count": null,
   "metadata": {},
   "outputs": [],
   "source": [
    "label = np.asarray(label)\n",
    "new_pred = [] \n",
    "for p in pred: \n",
    "    if float(p) > 0: \n",
    "        new_pred.append(1)\n",
    "    else: \n",
    "        new_pred.append(0)\n",
    "pred = np.asarray(new_pred)\n",
    "pred = np.around(pred)\n",
    "acc = np.sum(pred==label)\n",
    "print(\"Accuracy\", acc/len(label))"
   ]
  },
  {
   "cell_type": "code",
   "execution_count": null,
   "metadata": {
    "collapsed": true
   },
   "outputs": [],
   "source": [
    "#NB for Amazon Reviews\n"
   ]
  },
  {
   "cell_type": "code",
   "execution_count": null,
   "metadata": {
    "collapsed": true
   },
   "outputs": [],
   "source": [
    "texts = df['text'].tolist() \n",
    "labels = df['label'].tolist()"
   ]
  },
  {
   "cell_type": "code",
   "execution_count": null,
   "metadata": {
    "collapsed": true
   },
   "outputs": [],
   "source": [
    "texts[:10]"
   ]
  },
  {
   "cell_type": "code",
   "execution_count": null,
   "metadata": {
    "collapsed": true
   },
   "outputs": [],
   "source": []
  },
  {
   "cell_type": "code",
   "execution_count": null,
   "metadata": {},
   "outputs": [],
   "source": [
    "vectorizer = CountVectorizer(stop_words='english', max_features=10000)\n",
    "train_features = vectorizer.fit_transform(texts[1000:9000])\n",
    "print(train_features.shape)\n",
    "nb_model = MultinomialNB()\n",
    "nb_model.fit(train_features, labels[1000:9000])"
   ]
  },
  {
   "cell_type": "code",
   "execution_count": null,
   "metadata": {
    "collapsed": true
   },
   "outputs": [],
   "source": [
    "vocab = vectorizer.vocabulary_"
   ]
  },
  {
   "cell_type": "code",
   "execution_count": null,
   "metadata": {},
   "outputs": [],
   "source": [
    "test_df = pd.read_csv('datasets/amazon_sentiment100.csv')\n",
    "test_texts = test_df['text'].tolist() \n",
    "test_labels = test_df['label'].tolist() \n",
    "print(len(test_labels))"
   ]
  },
  {
   "cell_type": "code",
   "execution_count": null,
   "metadata": {},
   "outputs": [],
   "source": [
    "vectorizer = CountVectorizer(stop_words='english', vocabulary=vocab)\n",
    "test_features = vectorizer.fit_transform(test_texts)\n",
    "print(test_features.shape)\n",
    "predictions = nb_model.predict(test_features)\n",
    "prob = nb_model.predict_proba(test_features)\n",
    "predictions = nb_model.predict(test_features)"
   ]
  },
  {
   "cell_type": "code",
   "execution_count": null,
   "metadata": {},
   "outputs": [],
   "source": [
    "print(test_labels)\n",
    "class_prob = [p[1] for p in prob]\n",
    "nb_model.score(test_features, test_labels)"
   ]
  },
  {
   "cell_type": "code",
   "execution_count": null,
   "metadata": {},
   "outputs": [],
   "source": [
    "print(np.mean(class_prob))\n",
    "print(np.sqrt(np.var(class_prob)/len(class_prob)))"
   ]
  },
  {
   "cell_type": "code",
   "execution_count": null,
   "metadata": {
    "collapsed": true
   },
   "outputs": [],
   "source": [
    "save_file = 'results/sst_sentiment100_custom_results.csv'\n",
    "with open(save_file, 'w') as f: \n",
    "    csv_writer = csv.writer(f)\n",
    "    csv_writer.writerow([\"text\", \"label\", \"NB_prob\"])\n",
    "    for i, twt in enumerate(test_texts): \n",
    "            csv_writer.writerow([twt, test_labels[i], class_prob[i]])"
   ]
  },
  {
   "cell_type": "code",
   "execution_count": null,
   "metadata": {
    "collapsed": true
   },
   "outputs": [],
   "source": []
  }
 ],
 "metadata": {
  "kernelspec": {
   "display_name": "Python 3",
   "language": "python",
   "name": "python3"
  },
  "language_info": {
   "codemirror_mode": {
    "name": "ipython",
    "version": 3
   },
   "file_extension": ".py",
   "mimetype": "text/x-python",
   "name": "python",
   "nbconvert_exporter": "python",
   "pygments_lexer": "ipython3",
   "version": "3.6.3"
  }
 },
 "nbformat": 4,
 "nbformat_minor": 2
}
