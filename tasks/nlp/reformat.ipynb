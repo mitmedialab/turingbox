{
 "cells": [
  {
   "cell_type": "code",
   "execution_count": null,
   "metadata": {
    "collapsed": true
   },
   "outputs": [],
   "source": [
    "import pickle\n",
    "import csv\n",
    "import re\n",
    "import pandas as pd\n",
    "import torch \n",
    "import torchtext"
   ]
  },
  {
   "cell_type": "code",
   "execution_count": null,
   "metadata": {
    "collapsed": true
   },
   "outputs": [],
   "source": [
    "# translate twitter datset\n",
    "data=pickle.load(open(\"datasets/raw/raw.pickle.txt\", \"rb\"))\n",
    "\n",
    "labels = data['info']\n",
    "tweets = data['texts']\n",
    "\n",
    "with open('datasets/twitter_sentiment.csv', 'w') as f:\n",
    "    writer = csv.writer(f)\n",
    "    writer.writerow([\"text\", \"label\"])\n",
    "    for i, twt in enumerate(tweets): \n",
    "        processed_twt = \" \".join(preprocess.process_tweet(twt))\n",
    "        label = labels[i]['label']\n",
    "        writer.writerow([processed_twt, label])\n",
    "        \n",
    "with open('datasets/twitter_sentiment100.csv', 'w') as f:\n",
    "    writer = csv.writer(f)\n",
    "    writer.writerow([\"text\", \"label\"])\n",
    "    for i, twt in enumerate(tweets[:100]): \n",
    "        processed_twt = \" \".join(preprocess.process_tweet(twt))\n",
    "        label = labels[i]['label']\n",
    "        writer.writerow([processed_twt, label])"
   ]
  },
  {
   "cell_type": "code",
   "execution_count": null,
   "metadata": {
    "collapsed": true
   },
   "outputs": [],
   "source": [
    "# translate amazon\n",
    "with open(\"datasets/raw/train.ft.txt\") as f: \n",
    "    reviews = f.readlines() \n",
    "print(len(reviews))\n",
    "with open('datasets/amazon_sentiment.csv', 'w') as f:\n",
    "    writer = csv.writer(f)\n",
    "    writer.writerow([\"text\", \"label\"])\n",
    "    for i, r in enumerate(reviews[:15000]): \n",
    "        output = re.findall(r\"__label__([0-9])\", r)\n",
    "        label = int(output[0]) - 1\n",
    "        text = re.sub(r\"__label__[0-9]\", \"\", r)\n",
    "        processed_text = \" \".join(preprocess.process_tweet(text))\n",
    "        writer.writerow([processed_text, label])"
   ]
  },
  {
   "cell_type": "code",
   "execution_count": null,
   "metadata": {
    "collapsed": true
   },
   "outputs": [],
   "source": [
    "# translat SST\n",
    "TEXT = torchtext.data.Field()\n",
    "LABEL = torchtext.data.Field(sequential=False)\n",
    "\n",
    "train, val, test = torchtext.datasets.SST.splits(\n",
    "    TEXT, LABEL,\n",
    "    filter_pred=lambda ex: ex.label != 'neutral')\n"
   ]
  },
  {
   "cell_type": "code",
   "execution_count": null,
   "metadata": {},
   "outputs": [],
   "source": [
    "print(train[500].text)"
   ]
  },
  {
   "cell_type": "code",
   "execution_count": null,
   "metadata": {},
   "outputs": [],
   "source": [
    "print(len(train))\n",
    "print(len(val))\n",
    "with open('datasets/sst_sentiment.csv', 'w') as f:\n",
    "    writer = csv.writer(f)\n",
    "    writer.writerow([\"text\", \"label\"])\n",
    "    for i in range(len(train)):\n",
    "        text = \" \".join(train[i].text) \n",
    "        if train[i].label == 'positive': \n",
    "            label = 1 \n",
    "        else: \n",
    "            label = 0 \n",
    "        writer.writerow([text, label])"
   ]
  }
 ],
 "metadata": {
  "kernelspec": {
   "display_name": "Python_torch",
   "language": "python",
   "name": "pytorch36"
  },
  "language_info": {
   "codemirror_mode": {
    "name": "ipython",
    "version": 3
   },
   "file_extension": ".py",
   "mimetype": "text/x-python",
   "name": "python",
   "nbconvert_exporter": "python",
   "pygments_lexer": "ipython3",
   "version": "3.6.5"
  }
 },
 "nbformat": 4,
 "nbformat_minor": 2
}
