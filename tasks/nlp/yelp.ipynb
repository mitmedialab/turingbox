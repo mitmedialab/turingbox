{
 "cells": [
  {
   "cell_type": "markdown",
   "metadata": {},
   "source": [
    "# Dataset Processing"
   ]
  },
  {
   "cell_type": "code",
   "execution_count": 1,
   "metadata": {
    "_cell_guid": "b1076dfc-b9ad-4769-8c92-a6c4dae69d19",
    "_uuid": "8f2839f25d086af736a60e9eeb907d3b93b6e0e5",
    "collapsed": true
   },
   "outputs": [],
   "source": [
    "import os\n",
    "import re \n",
    "import csv\n",
    "import nltk\n",
    "import sklearn\n",
    "import preprocess\n",
    "import numpy as np \n",
    "import pandas as pd \n",
    "import matplotlib.pyplot as plt"
   ]
  },
  {
   "cell_type": "code",
   "execution_count": 22,
   "metadata": {},
   "outputs": [
    {
     "name": "stdout",
     "output_type": "stream",
     "text": [
      "The autoreload extension is already loaded. To reload it, use:\n",
      "  %reload_ext autoreload\n"
     ]
    }
   ],
   "source": [
    "%load_ext autoreload\n",
    "\n",
    "%autoreload 2"
   ]
  },
  {
   "cell_type": "markdown",
   "metadata": {},
   "source": [
    "### Yelp"
   ]
  },
  {
   "cell_type": "code",
   "execution_count": 51,
   "metadata": {
    "_uuid": "99dbd4c1a9f600b3fad29d222d9522a594e6f27b",
    "collapsed": true
   },
   "outputs": [],
   "source": [
    "# Read Data\n",
    "review_df = pd.read_csv('datasets/yelp_review.csv')\n",
    "user_df = pd.read_csv('datasets/yelp_user.csv')"
   ]
  },
  {
   "cell_type": "code",
   "execution_count": 52,
   "metadata": {
    "_uuid": "3ef5944a330120204cefedb9f6d6bc97758601fb"
   },
   "outputs": [
    {
     "name": "stdout",
     "output_type": "stream",
     "text": [
      "number of male names:  2943\n",
      "number of female names:  5001\n",
      "number of male and female names:  365\n",
      "Index(['average_stars', 'name', 'review_count', 'user_id', 'gender'], dtype='object')\n"
     ]
    }
   ],
   "source": [
    "male_names, female_names, intersection_names = preprocess.load_names()\n",
    "user_cdf = pd.DataFrame({'user_id': user_df['user_id'], 'name': user_df['name'], 'review_count': user_df['review_count'], 'average_stars': user_df['average_stars']})\n",
    "user_cdf['gender'] = pd.Series([])\n",
    "names = user_cdf['name']\n",
    "print(user_cdf.keys())\n",
    "gender = [] \n",
    "count_arr = [0, 0, 0, 0]\n",
    "for name in names: \n",
    "    if isinstance(name, str): \n",
    "        name = name.lower()\n",
    "    if name in intersection_names: \n",
    "        count_arr[3] += 1 \n",
    "        gender.append('mf')\n",
    "    elif name in male_names: \n",
    "        count_arr[0] += 1 \n",
    "        gender.append('m')\n",
    "    elif name in female_names:\n",
    "        count_arr[1] += 1\n",
    "        gender.append('f')\n",
    "    else: \n",
    "        count_arr[2] += 1\n",
    "        gender.append('na')\n",
    "user_cdf['gender'] = pd.Series(gender)"
   ]
  },
  {
   "cell_type": "code",
   "execution_count": 58,
   "metadata": {
    "collapsed": true
   },
   "outputs": [],
   "source": [
    "# build userid to gender dictionary\n",
    "id2gender = {} \n",
    "for ind, row in user_cdf.iterrows(): \n",
    "    id2gender[row['user_id']] = row['gender']"
   ]
  },
  {
   "cell_type": "code",
   "execution_count": 63,
   "metadata": {},
   "outputs": [],
   "source": [
    "#match review with gender and save\n",
    "male_texts = [] \n",
    "male_labels = []\n",
    "female_texts = [] \n",
    "female_labels = [] \n",
    "with open('datasets/yelp.csv', 'w') as f: \n",
    "    writer = csv.writer(f)\n",
    "    for ind, row in review_df.iterrows(): \n",
    "        try: \n",
    "            if id2gender[row['user_id']] == 'f': \n",
    "                process_line = preprocess.tokenize_reviews([row['text']])[0]\n",
    "                star = 1 if row['stars'] > 3 else 0 \n",
    "                female_texts.append(process_line)\n",
    "                female_labels.append(row['stars'])\n",
    "                writer.writerow([\" \".join(process_line), 'f', star])\n",
    "            elif id2gender[row['user_id']] == 'm':\n",
    "                process_line = preprocess.tokenize_reviews([row['text']])[0]\n",
    "                male_texts.append(process_line)\n",
    "                star = 1 if row['stars'] > 3 else 0 \n",
    "                male_labels.append(row['stars'])\n",
    "                writer.writerow([\" \".join(process_line), 'm', star])\n",
    "        except KeyError: \n",
    "            pass "
   ]
  },
  {
   "cell_type": "code",
   "execution_count": 8,
   "metadata": {
    "collapsed": true
   },
   "outputs": [],
   "source": [
    "# Save a smaller version\n",
    "gender_review_df = pd.read_csv('datasets/yelp.csv')\n",
    "sm_gender_review_df = gender_review_df.head(1000)\n",
    "sm_gender_review_df.to_csv('datasets/yelp1000.csv', index=False)"
   ]
  },
  {
   "cell_type": "markdown",
   "metadata": {},
   "source": [
    "### E-Commerce"
   ]
  },
  {
   "cell_type": "code",
   "execution_count": 2,
   "metadata": {},
   "outputs": [
    {
     "data": {
      "text/plain": [
       "Index(['Unnamed: 0', 'Clothing ID', 'Age', 'Title', 'Review Text', 'Rating',\n",
       "       'Recommended IND', 'Positive Feedback Count', 'Division Name',\n",
       "       'Department Name', 'Class Name'],\n",
       "      dtype='object')"
      ]
     },
     "execution_count": 2,
     "metadata": {},
     "output_type": "execute_result"
    }
   ],
   "source": [
    "review_df = pd.read_csv('datasets/clothing_raw.csv')\n",
    "review_df.keys()"
   ]
  },
  {
   "cell_type": "code",
   "execution_count": 7,
   "metadata": {},
   "outputs": [
    {
     "name": "stdout",
     "output_type": "stream",
     "text": [
      "Absolutely wonderful - silky and sexy and comfortable\n"
     ]
    }
   ],
   "source": [
    "user_cdf = pd.DataFrame()\n",
    "\n",
    "# binarize rating\n",
    "ratings = review_df['Rating'].tolist()\n",
    "bratings = preprocess.binarize_reviews(ratings)\n",
    "user_cdf['rating'] = pd.Series(bratings)\n",
    "\n",
    "# preprocess text \n",
    "review_text = review_df['Review Text'].tolist() \n",
    "print(review_text[0])\n",
    "review_text = [\"\" if not isinstance(t, str) else t for t in review_text] \n",
    "        \n",
    "processed_text = preprocess.tokenize_reviews(review_text)\n",
    "processed_text = [\" \".join(p) for p in processed_text]\n",
    "user_cdf['text'] = pd.Series(processed_text)\n",
    "\n",
    "age_list = review_df['Age'].tolist() \n",
    "converted_age = [] \n",
    "for a in age_list:\n",
    "    if a < 35: \n",
    "        converted_age.append('y')\n",
    "    elif a < 55 and a >= 35: \n",
    "        converted_age.append('m')\n",
    "    else: \n",
    "        converted_age.append('o')\n",
    "user_cdf['age'] = pd.Series(converted_age)\n",
    "\n",
    "user_cdf.to_csv(\"datasets/clothing.csv\", header=True, columns=['text', 'age', 'rating'], index=False)\n",
    "user_cdf.head(1000).to_csv('datasets/clothing1000.csv', header=True, \n",
    "                           columns=['text', 'age', 'rating'], index=False)"
   ]
  },
  {
   "cell_type": "markdown",
   "metadata": {},
   "source": [
    "## Movies"
   ]
  },
  {
   "cell_type": "code",
   "execution_count": 3,
   "metadata": {},
   "outputs": [],
   "source": [
    "texts = [] \n",
    "scores = [] \n",
    "names = [] \n",
    "with open('datasets/movies.txt', 'r', encoding='latin1') as f: \n",
    "    for line in f:\n",
    "        if len(texts) > 2000000:\n",
    "            break \n",
    "        elif line.startswith(\"review/score:\"): \n",
    "            scores.append(float(line.lstrip(\"review/score: \")))\n",
    "        elif line.startswith(\"review/profileName:\"): \n",
    "            names.append(line.lstrip(\"review/profileName: \"))\n",
    "        elif line.startswith(\"review/text:\"): \n",
    "            texts.append(line.lstrip(\"review/text:\"))"
   ]
  },
  {
   "cell_type": "code",
   "execution_count": 19,
   "metadata": {},
   "outputs": [
    {
     "name": "stdout",
     "output_type": "stream",
     "text": [
      "number of male names:  2943\n",
      "number of female names:  5001\n",
      "number of male and female names:  365\n",
      "[562310, 236385, 140148]\n",
      "['aamir', 'aaron', 'abbey', 'abbie', 'abbot', 'abbott', 'abby', 'abdel', 'abdul', 'abdulkarim']\n"
     ]
    }
   ],
   "source": [
    "male_names, female_names, intersection_names = preprocess.load_names()\n",
    "counts = [0, 0, 0]\n",
    "save_list = [] \n",
    "for i, n in enumerate(names): \n",
    "    try: \n",
    "        target_name = n.split()[0].lower()\n",
    "    except: \n",
    "        pass \n",
    "    if target_name in intersection_names: \n",
    "        counts[2] += 1 \n",
    "    elif target_name in male_names: \n",
    "        counts[0] += 1\n",
    "        save_list.append((texts[i], 'm', scores[i]))\n",
    "    elif target_name in female_names: \n",
    "        counts[1] += 1 \n",
    "        save_list.append((texts[i], 'f', scores[i]))\n",
    "print(counts)\n",
    "print(male_names[:10])"
   ]
  },
  {
   "cell_type": "code",
   "execution_count": 28,
   "metadata": {},
   "outputs": [],
   "source": [
    "# tokenize and binarize\n",
    "sm_texts = [t for (t, g, l) in save_list]\n",
    "proccessed_texts = preprocess.tokenize_reviews(sm_texts)"
   ]
  },
  {
   "cell_type": "code",
   "execution_count": 49,
   "metadata": {
    "collapsed": true
   },
   "outputs": [],
   "source": [
    "proccessed_texts = [\" \".join(t) for t in proccessed_texts]"
   ]
  },
  {
   "cell_type": "code",
   "execution_count": 32,
   "metadata": {},
   "outputs": [],
   "source": [
    "labels = [l for (t, g, l) in save_list]\n",
    "blabels = preprocess.binarize_reviews(labels)"
   ]
  },
  {
   "cell_type": "code",
   "execution_count": 50,
   "metadata": {},
   "outputs": [],
   "source": [
    "gender = [g for (t, g, l) in save_list]\n",
    "user_cdf = pd.DataFrame({'text': pd.Series(proccessed_texts), \n",
    "                         'gender': pd.Series(gender), 'rating': pd.Series(blabels)})\n",
    "user_cdf.to_csv('datasets/movies.csv', header=True, columns=['text', 'gender', 'rating'], \n",
    "                index=False)\n",
    "\n",
    "user_cdf.head(1000).to_csv('datasets/movies1000.csv', header=True, \n",
    "                           columns=['text', 'gender', 'rating'], index=False)"
   ]
  },
  {
   "cell_type": "code",
   "execution_count": 47,
   "metadata": {},
   "outputs": [
    {
     "name": "stdout",
     "output_type": "stream",
     "text": [
      "m    745\n",
      "f    255\n",
      "Name: gender, dtype: int64\n",
      "f    676\n",
      "m    325\n",
      "Name: gender, dtype: int64\n",
      "m    566\n",
      "y    240\n",
      "o    194\n",
      "Name: age, dtype: int64\n"
     ]
    }
   ],
   "source": [
    "# top stats\n",
    "mini_df = pd.read_csv('datasets/movies1000.csv')\n",
    "print(mini_df['gender'].value_counts()) \n",
    "mini_df = pd.read_csv('datasets/yelp1000.csv', names=['text', 'gender', 'age'])\n",
    "print(mini_df['gender'].value_counts()) \n",
    "mini_df = pd.read_csv('datasets/clothing1000.csv')\n",
    "print(mini_df['age'].value_counts()) "
   ]
  },
  {
   "cell_type": "markdown",
   "metadata": {},
   "source": [
    "# Analysis"
   ]
  },
  {
   "cell_type": "code",
   "execution_count": null,
   "metadata": {
    "_uuid": "b90cc1c436e483e940141736ad438fd9a62031a1",
    "collapsed": true
   },
   "outputs": [],
   "source": []
  },
  {
   "cell_type": "code",
   "execution_count": null,
   "metadata": {
    "collapsed": true
   },
   "outputs": [],
   "source": [
    "user_cdf.groupby('gender').mean()"
   ]
  },
  {
   "cell_type": "code",
   "execution_count": null,
   "metadata": {
    "collapsed": true
   },
   "outputs": [],
   "source": [
    "processed_male = tokenize_reviews(male_texts[:10000])\n",
    "processed_female = tokenize_reviews(female_texts[:10000])"
   ]
  },
  {
   "cell_type": "code",
   "execution_count": null,
   "metadata": {
    "collapsed": true
   },
   "outputs": [],
   "source": [
    "male_blabels = binarize_reviews(male_labels[:10000])\n",
    "female_blabels = binarize_reviews(female_labels[:10000])"
   ]
  },
  {
   "cell_type": "code",
   "execution_count": null,
   "metadata": {
    "collapsed": true
   },
   "outputs": [],
   "source": [
    "mixed_reviews = tokenize_reviews(reviews[-20000:])\n",
    "mixed_blabels = binarize_reviews(ratings[-20000:])"
   ]
  },
  {
   "cell_type": "code",
   "execution_count": null,
   "metadata": {
    "collapsed": true
   },
   "outputs": [],
   "source": [
    "vectorizer = sklearn.feature_extraction.text.CountVectorizer(\n",
    "    preprocessor=lambda x: x, tokenizer=lambda x: x, max_features=5000)\n",
    "x_vectors = vectorizer.fit_transform(mixed_reviews)\n",
    "clf = sklearn.svm.SVC()\n",
    "clf.fit(x_vectors[:16000], mixed_blabels[:16000])\n",
    "predictions = clf.predict(x_vectors[16000:])\n",
    "acc = np.sum(predictions == mixed_blabels[16000:])/len(predictions)\n",
    "print(acc)"
   ]
  },
  {
   "cell_type": "code",
   "execution_count": null,
   "metadata": {
    "collapsed": true
   },
   "outputs": [],
   "source": [
    "x_vectors = vectorizer.fit_transform(processed_male)\n",
    "clf = sklearn.svm.SVC()\n",
    "clf.fit(x_vectors, male_blabels)\n",
    "predictions = clf.predict(x_vectors)\n",
    "acc = np.sum(predictions == male_blabels)/len(predictions)\n",
    "print(acc)"
   ]
  },
  {
   "cell_type": "code",
   "execution_count": null,
   "metadata": {
    "collapsed": true
   },
   "outputs": [],
   "source": [
    "x_vectors = vectorizer.fit_transform(processed_female)\n",
    "clf = sklearn.svm.SVC()\n",
    "clf.fit(x_vectors, female_blabels)\n",
    "predictions = clf.predict(x_vectors)\n",
    "acc = np.sum(predictions == female_blabels)/len(predictions)\n",
    "print(acc)"
   ]
  },
  {
   "cell_type": "code",
   "execution_count": null,
   "metadata": {
    "collapsed": true
   },
   "outputs": [],
   "source": []
  }
 ],
 "metadata": {
  "kernelspec": {
   "display_name": "Python 3",
   "language": "python",
   "name": "python3"
  },
  "language_info": {
   "codemirror_mode": {
    "name": "ipython",
    "version": 3
   },
   "file_extension": ".py",
   "mimetype": "text/x-python",
   "name": "python",
   "nbconvert_exporter": "python",
   "pygments_lexer": "ipython3",
   "version": "3.6.3"
  }
 },
 "nbformat": 4,
 "nbformat_minor": 1
}
