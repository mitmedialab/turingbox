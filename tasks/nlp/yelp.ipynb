{
 "cells": [
  {
   "cell_type": "markdown",
   "metadata": {},
   "source": [
    "# Dataset Processing"
   ]
  },
  {
   "cell_type": "code",
   "execution_count": null,
   "metadata": {
    "_cell_guid": "b1076dfc-b9ad-4769-8c92-a6c4dae69d19",
    "_uuid": "8f2839f25d086af736a60e9eeb907d3b93b6e0e5",
    "collapsed": true
   },
   "outputs": [],
   "source": [
    "import os\n",
    "import re \n",
    "import csv\n",
    "import nltk\n",
    "import sklearn\n",
    "import preprocess\n",
    "import numpy as np \n",
    "import pandas as pd \n",
    "import matplotlib.pyplot as plt"
   ]
  },
  {
   "cell_type": "code",
   "execution_count": null,
   "metadata": {
    "collapsed": true
   },
   "outputs": [],
   "source": [
    "%load_ext autoreload\n",
    "\n",
    "%autoreload 2"
   ]
  },
  {
   "cell_type": "markdown",
   "metadata": {},
   "source": [
    "### Yelp"
   ]
  },
  {
   "cell_type": "code",
   "execution_count": null,
   "metadata": {
    "_uuid": "99dbd4c1a9f600b3fad29d222d9522a594e6f27b",
    "collapsed": true
   },
   "outputs": [],
   "source": [
    "# Read Data\n",
    "review_df = pd.read_csv('datasets/yelp_review.csv')\n",
    "user_df = pd.read_csv('datasets/yelp_user.csv')"
   ]
  },
  {
   "cell_type": "code",
   "execution_count": null,
   "metadata": {
    "_uuid": "3ef5944a330120204cefedb9f6d6bc97758601fb",
    "collapsed": true
   },
   "outputs": [],
   "source": [
    "male_names, female_names, intersection_names = preprocess.load_names()\n",
    "user_cdf = pd.DataFrame({'user_id': user_df['user_id'], 'name': user_df['name'], 'review_count': user_df['review_count'], 'average_stars': user_df['average_stars']})\n",
    "user_cdf['gender'] = pd.Series([])\n",
    "names = user_cdf['name']\n",
    "print(user_cdf.keys())\n",
    "gender = [] \n",
    "count_arr = [0, 0, 0, 0]\n",
    "for name in names: \n",
    "    if isinstance(name, str): \n",
    "        name = name.lower()\n",
    "    if name in intersection_names: \n",
    "        count_arr[3] += 1 \n",
    "        gender.append('mf')\n",
    "    elif name in male_names: \n",
    "        count_arr[0] += 1 \n",
    "        gender.append('m')\n",
    "    elif name in female_names:\n",
    "        count_arr[1] += 1\n",
    "        gender.append('f')\n",
    "    else: \n",
    "        count_arr[2] += 1\n",
    "        gender.append('na')\n",
    "user_cdf['gender'] = pd.Series(gender)"
   ]
  },
  {
   "cell_type": "code",
   "execution_count": null,
   "metadata": {
    "collapsed": true
   },
   "outputs": [],
   "source": [
    "# build userid to gender dictionary\n",
    "id2gender = {} \n",
    "for ind, row in user_cdf.iterrows(): \n",
    "    id2gender[row['user_id']] = row['gender']"
   ]
  },
  {
   "cell_type": "code",
   "execution_count": null,
   "metadata": {
    "collapsed": true
   },
   "outputs": [],
   "source": [
    "review_df['stars'].hist()\n",
    "plt.show()"
   ]
  },
  {
   "cell_type": "code",
   "execution_count": null,
   "metadata": {
    "collapsed": true
   },
   "outputs": [],
   "source": [
    "#match review with gender and save\n",
    "male_texts = [] \n",
    "male_labels = []\n",
    "female_texts = [] \n",
    "female_labels = [] \n",
    "with open('datasets/yelp.csv', 'w') as f: \n",
    "    writer = csv.writer(f)\n",
    "    for ind, row in review_df.iterrows(): \n",
    "        try: \n",
    "            if row['stars'] != 4: \n",
    "                if id2gender[row['user_id']] == 'f': \n",
    "                    process_line = preprocess.tokenize_reviews([row['text']])[0]\n",
    "                    star = 1 if row['stars'] > 3 else 0 \n",
    "                    female_texts.append(process_line)\n",
    "                    female_labels.append(row['stars'])\n",
    "                    writer.writerow([\" \".join(process_line), 'f', star])\n",
    "                elif id2gender[row['user_id']] == 'm':\n",
    "                    process_line = preprocess.tokenize_reviews([row['text']])[0]\n",
    "                    male_texts.append(process_line)\n",
    "                    star = 1 if row['stars'] > 3 else 0 \n",
    "                    male_labels.append(row['stars'])\n",
    "                    writer.writerow([\" \".join(process_line), 'm', star])\n",
    "        except KeyError: \n",
    "            pass "
   ]
  },
  {
   "cell_type": "code",
   "execution_count": null,
   "metadata": {
    "collapsed": true
   },
   "outputs": [],
   "source": [
    "# Save a smaller version\n",
    "gender_review_df = pd.read_csv('datasets/yelp.csv')\n",
    "sm_gender_review_df = gender_review_df.head(1000)\n",
    "sm_gender_review_df.to_csv('datasets/yelp1000.csv', index=False)"
   ]
  },
  {
   "cell_type": "markdown",
   "metadata": {},
   "source": [
    "### E-Commerce"
   ]
  },
  {
   "cell_type": "code",
   "execution_count": null,
   "metadata": {
    "collapsed": true
   },
   "outputs": [],
   "source": [
    "review_df = pd.read_csv('datasets/clothing_raw.csv')\n",
    "review_df.keys()"
   ]
  },
  {
   "cell_type": "code",
   "execution_count": null,
   "metadata": {
    "collapsed": true
   },
   "outputs": [],
   "source": [
    "user_cdf = pd.DataFrame()\n",
    "\n",
    "# binarize rating\n",
    "ratings = review_df['Rating'].tolist()\n",
    "bratings = preprocess.binarize_reviews(ratings)\n",
    "user_cdf['rating'] = pd.Series(bratings)\n",
    "\n",
    "# preprocess text \n",
    "review_text = review_df['Review Text'].tolist() \n",
    "print(review_text[0])\n",
    "review_text = [\"\" if not isinstance(t, str) else t for t in review_text] \n",
    "        \n",
    "processed_text = preprocess.tokenize_reviews(review_text)\n",
    "processed_text = [\" \".join(p) for p in processed_text]\n",
    "user_cdf['text'] = pd.Series(processed_text)\n",
    "\n",
    "age_list = review_df['Age'].tolist() \n",
    "converted_age = [] \n",
    "for a in age_list:\n",
    "    if a < 35: \n",
    "        converted_age.append('y')\n",
    "    elif a < 55 and a >= 35: \n",
    "        converted_age.append('m')\n",
    "    else: \n",
    "        converted_age.append('o')\n",
    "user_cdf['age'] = pd.Series(converted_age)\n",
    "print(user_cdf.shape)\n",
    "user_cdf = user_cdf[user_cdf.text != \"\"]\n",
    "print(user_cdf.shape)"
   ]
  },
  {
   "cell_type": "code",
   "execution_count": null,
   "metadata": {
    "collapsed": true
   },
   "outputs": [],
   "source": [
    "user_cdf.to_csv(\"datasets/clothing.csv\", header=True, columns=['text', 'age', 'rating'], index=False)\n",
    "user_cdf.head(1000).to_csv('datasets/clothing1000.csv', header=True, \n",
    "                           columns=['text', 'age', 'rating'], index=False)"
   ]
  },
  {
   "cell_type": "markdown",
   "metadata": {},
   "source": [
    "## Movies"
   ]
  },
  {
   "cell_type": "code",
   "execution_count": null,
   "metadata": {
    "collapsed": true
   },
   "outputs": [],
   "source": [
    "texts = [] \n",
    "scores = [] \n",
    "names = [] \n",
    "with open('datasets/movies.txt', 'r', encoding='latin1') as f: \n",
    "    for line in f:\n",
    "        if len(texts) > 7000000:\n",
    "            break \n",
    "        elif line.startswith(\"review/score:\"): \n",
    "            scores.append(float(line.lstrip(\"review/score: \")))\n",
    "        elif line.startswith(\"review/profileName:\"): \n",
    "            names.append(line.lstrip(\"review/profileName: \"))\n",
    "        elif line.startswith(\"review/text:\"): \n",
    "            texts.append(line.lstrip(\"review/text:\"))"
   ]
  },
  {
   "cell_type": "code",
   "execution_count": null,
   "metadata": {},
   "outputs": [],
   "source": [
    "plt.hist(scores)\n",
    "plt.show()"
   ]
  },
  {
   "cell_type": "code",
   "execution_count": null,
   "metadata": {},
   "outputs": [],
   "source": [
    "male_names, female_names, intersection_names = preprocess.load_names()\n",
    "counts = [0, 0, 0]\n",
    "save_list = [] \n",
    "for i, n in enumerate(names): \n",
    "    if scores[i] != 4: \n",
    "        try: \n",
    "            target_name = n.split()[0].lower()\n",
    "        except: \n",
    "            pass \n",
    "        if target_name in intersection_names: \n",
    "            counts[2] += 1 \n",
    "        elif target_name in male_names: \n",
    "            counts[0] += 1\n",
    "            if len(texts[i].split()) < 500: \n",
    "                save_list.append((texts[i], 'm', scores[i]))\n",
    "        elif target_name in female_names: \n",
    "            counts[1] += 1 \n",
    "            if len(texts[i].split()) < 500: \n",
    "                save_list.append((texts[i], 'f', scores[i]))\n",
    "print(counts)"
   ]
  },
  {
   "cell_type": "code",
   "execution_count": null,
   "metadata": {
    "collapsed": true
   },
   "outputs": [],
   "source": []
  },
  {
   "cell_type": "code",
   "execution_count": null,
   "metadata": {
    "collapsed": true
   },
   "outputs": [],
   "source": [
    "# tokenize and binarize\n",
    "sm_texts = [t for (t, g, l) in save_list]\n",
    "proccessed_texts = preprocess.tokenize_reviews(sm_texts)"
   ]
  },
  {
   "cell_type": "code",
   "execution_count": null,
   "metadata": {
    "collapsed": true
   },
   "outputs": [],
   "source": [
    "proccessed_texts = [\" \".join(t) for t in proccessed_texts]"
   ]
  },
  {
   "cell_type": "code",
   "execution_count": null,
   "metadata": {
    "collapsed": true
   },
   "outputs": [],
   "source": [
    "labels = [l for (t, g, l) in save_list]\n",
    "blabels = preprocess.binarize_reviews(labels)"
   ]
  },
  {
   "cell_type": "code",
   "execution_count": null,
   "metadata": {
    "collapsed": true
   },
   "outputs": [],
   "source": [
    "gender = [g for (t, g, l) in save_list]\n",
    "user_cdf = pd.DataFrame({'text': pd.Series(proccessed_texts), \n",
    "                         'gender': pd.Series(gender), 'rating': pd.Series(blabels)})\n",
    "user_cdf.to_csv('datasets/movies.csv', header=True, columns=['text', 'gender', 'rating'], \n",
    "                index=False)\n",
    "\n",
    "#user_cdf.head(1000).to_csv('datasets/movies1000.csv', header=True, columns=['text', 'gender', 'rating'], index=False)"
   ]
  },
  {
   "cell_type": "code",
   "execution_count": null,
   "metadata": {
    "collapsed": true
   },
   "outputs": [],
   "source": [
    "# top stats\n",
    "mini_df = pd.read_csv('datasets/movies1000.csv')\n",
    "print(mini_df['gender'].value_counts()) \n",
    "mini_df = pd.read_csv('datasets/yelp1000.csv', names=['text', 'gender', 'age'])\n",
    "print(mini_df['gender'].value_counts()) \n",
    "mini_df = pd.read_csv('datasets/clothing1000.csv')\n",
    "print(mini_df['age'].value_counts()) "
   ]
  },
  {
   "cell_type": "markdown",
   "metadata": {},
   "source": [
    "# Analysis"
   ]
  },
  {
   "cell_type": "code",
   "execution_count": null,
   "metadata": {
    "collapsed": true
   },
   "outputs": [],
   "source": [
    "user_cdf.groupby('gender').mean()"
   ]
  },
  {
   "cell_type": "code",
   "execution_count": null,
   "metadata": {
    "collapsed": true
   },
   "outputs": [],
   "source": [
    "processed_male = tokenize_reviews(male_texts[:10000])\n",
    "processed_female = tokenize_reviews(female_texts[:10000])"
   ]
  },
  {
   "cell_type": "code",
   "execution_count": null,
   "metadata": {
    "collapsed": true
   },
   "outputs": [],
   "source": [
    "male_blabels = binarize_reviews(male_labels[:10000])\n",
    "female_blabels = binarize_reviews(female_labels[:10000])"
   ]
  },
  {
   "cell_type": "code",
   "execution_count": null,
   "metadata": {
    "collapsed": true
   },
   "outputs": [],
   "source": [
    "mixed_reviews = tokenize_reviews(reviews[-20000:])\n",
    "mixed_blabels = binarize_reviews(ratings[-20000:])"
   ]
  },
  {
   "cell_type": "code",
   "execution_count": null,
   "metadata": {
    "collapsed": true
   },
   "outputs": [],
   "source": [
    "vectorizer = sklearn.feature_extraction.text.CountVectorizer(\n",
    "    preprocessor=lambda x: x, tokenizer=lambda x: x, max_features=5000)\n",
    "x_vectors = vectorizer.fit_transform(mixed_reviews)\n",
    "clf = sklearn.svm.SVC()\n",
    "clf.fit(x_vectors[:16000], mixed_blabels[:16000])\n",
    "predictions = clf.predict(x_vectors[16000:])\n",
    "acc = np.sum(predictions == mixed_blabels[16000:])/len(predictions)\n",
    "print(acc)"
   ]
  },
  {
   "cell_type": "code",
   "execution_count": null,
   "metadata": {
    "collapsed": true
   },
   "outputs": [],
   "source": [
    "x_vectors = vectorizer.fit_transform(processed_male)\n",
    "clf = sklearn.svm.SVC()\n",
    "clf.fit(x_vectors, male_blabels)\n",
    "predictions = clf.predict(x_vectors)\n",
    "acc = np.sum(predictions == male_blabels)/len(predictions)\n",
    "print(acc)"
   ]
  },
  {
   "cell_type": "code",
   "execution_count": null,
   "metadata": {
    "collapsed": true
   },
   "outputs": [],
   "source": [
    "x_vectors = vectorizer.fit_transform(processed_female)\n",
    "clf = sklearn.svm.SVC()\n",
    "clf.fit(x_vectors, female_blabels)\n",
    "predictions = clf.predict(x_vectors)\n",
    "acc = np.sum(predictions == female_blabels)/len(predictions)\n",
    "print(acc)"
   ]
  },
  {
   "cell_type": "code",
   "execution_count": null,
   "metadata": {
    "collapsed": true
   },
   "outputs": [],
   "source": [
    "# checking metadata \n",
    "df = pd.read_csv('datasets/movies.csv')"
   ]
  },
  {
   "cell_type": "code",
   "execution_count": null,
   "metadata": {
    "collapsed": true
   },
   "outputs": [],
   "source": [
    "df.groupby(['gender', 'rating']).count()\n",
    "grouped = df.groupby(['gender', 'rating'])\n",
    "sampled = grouped.apply(lambda x: x.sample(n=100000))\n",
    "sampled.to_csv('datasets/movies_balanced.csv', index=False)"
   ]
  },
  {
   "cell_type": "code",
   "execution_count": null,
   "metadata": {
    "collapsed": true
   },
   "outputs": [],
   "source": [
    "#sampled balanced set\n",
    "df = pd.read_csv('datasets/yelp.csv', names=['text', 'gender', 'rating'])\n",
    "grouped = df.groupby(['gender', 'rating'])\n",
    "sampled = grouped.apply(lambda x: x.sample(n=500000))\n",
    "sampled.to_csv('datasets/yelp_balanced.csv', index=False)"
   ]
  }
 ],
 "metadata": {
  "kernelspec": {
   "display_name": "Python 3",
   "language": "python",
   "name": "python3"
  },
  "language_info": {
   "codemirror_mode": {
    "name": "ipython",
    "version": 3
   },
   "file_extension": ".py",
   "mimetype": "text/x-python",
   "name": "python",
   "nbconvert_exporter": "python",
   "pygments_lexer": "ipython3",
   "version": "3.6.3"
  }
 },
 "nbformat": 4,
 "nbformat_minor": 1
}
