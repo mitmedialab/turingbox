{
 "cells": [
  {
   "cell_type": "markdown",
   "metadata": {},
   "source": [
    "# Yelp Dataset Processing"
   ]
  },
  {
   "cell_type": "code",
   "execution_count": 8,
   "metadata": {
    "_cell_guid": "b1076dfc-b9ad-4769-8c92-a6c4dae69d19",
    "_uuid": "8f2839f25d086af736a60e9eeb907d3b93b6e0e5",
    "collapsed": true
   },
   "outputs": [],
   "source": [
    "import os\n",
    "import re \n",
    "import csv\n",
    "import nltk\n",
    "import sklearn\n",
    "import numpy as np \n",
    "import pandas as pd \n",
    "from nltk.corpus import names\n",
    "import matplotlib.pyplot as plt"
   ]
  },
  {
   "cell_type": "markdown",
   "metadata": {},
   "source": [
    "### Helper methods"
   ]
  },
  {
   "cell_type": "code",
   "execution_count": 3,
   "metadata": {
    "collapsed": true
   },
   "outputs": [],
   "source": [
    "def tokenize_reviews(reviews): \n",
    "    reviews = [re.sub(r\"[\\n\\(\\)\\/\\\\]\", \" \", r) for r in reviews]\n",
    "    reviews = [re.sub(r\"([.,!?()])\", r\" \\1 \", r) for r in reviews]\n",
    "    #word tokenize\n",
    "    tokenized_reviews = [nltk.tokenize.word_tokenize(r) for r in reviews]\n",
    "    return tokenized_reviews\n",
    "\n",
    "def binarize_reviews(ratings): \n",
    "    # split into binary pos vs neg reviews\n",
    "    rating = [0 if r < 4 else 1 for r in ratings]\n",
    "    return rating"
   ]
  },
  {
   "cell_type": "code",
   "execution_count": 4,
   "metadata": {
    "_uuid": "99dbd4c1a9f600b3fad29d222d9522a594e6f27b",
    "collapsed": true
   },
   "outputs": [],
   "source": [
    "# Read Data\n",
    "review_df = pd.read_csv('datasets/yelp_review.csv')\n",
    "user_df = pd.read_csv('datasets/yelp_user.csv')"
   ]
  },
  {
   "cell_type": "code",
   "execution_count": 5,
   "metadata": {
    "_uuid": "024aec7c31c2880732f0e08c27052ece26d10ef9"
   },
   "outputs": [
    {
     "name": "stdout",
     "output_type": "stream",
     "text": [
      "number of male names:  2943\n",
      "number of female names:  5001\n",
      "number of male and female names:  365\n"
     ]
    }
   ],
   "source": [
    "# Load names\n",
    "male_names = names.words('male.txt')\n",
    "male_names = [n.lower() for n in male_names]\n",
    "female_names = names.words('female.txt')\n",
    "female_names = [n.lower() for n in female_names]\n",
    "intersection_names = set(male_names).intersection(set(female_names))\n",
    "print(\"number of male names: \", len(male_names))\n",
    "print(\"number of female names: \", len(female_names))\n",
    "print(\"number of male and female names: \", len(intersection_names))"
   ]
  },
  {
   "cell_type": "code",
   "execution_count": 6,
   "metadata": {
    "_uuid": "3ef5944a330120204cefedb9f6d6bc97758601fb"
   },
   "outputs": [
    {
     "name": "stdout",
     "output_type": "stream",
     "text": [
      "Index(['average_stars', 'name', 'review_count', 'user_id', 'gender'], dtype='object')\n"
     ]
    }
   ],
   "source": [
    "user_cdf = pd.DataFrame({'user_id': user_df['user_id'], 'name': user_df['name'], 'review_count': user_df['review_count'], 'average_stars': user_df['average_stars']})\n",
    "user_cdf['gender'] = pd.Series([])\n",
    "names = user_cdf['name']\n",
    "print(user_cdf.keys())\n",
    "gender = [] \n",
    "count_arr = [0, 0, 0, 0]\n",
    "for name in names: \n",
    "    if isinstance(name, str): \n",
    "        name = name.lower()\n",
    "    if name in intersection_names: \n",
    "        count_arr[3] += 1 \n",
    "        gender.append('mf')\n",
    "    elif name in male_names: \n",
    "        count_arr[0] += 1 \n",
    "        gender.append('m')\n",
    "    elif name in female_names:\n",
    "        count_arr[1] += 1\n",
    "        gender.append('f')\n",
    "    else: \n",
    "        count_arr[2] += 1\n",
    "        gender.append('na')\n",
    "user_cdf['gender'] = pd.Series(gender)"
   ]
  },
  {
   "cell_type": "code",
   "execution_count": 11,
   "metadata": {},
   "outputs": [],
   "source": [
    "# build userid to gender dictionary\n",
    "id2gender = {} \n",
    "for ind, row in user_cdf.iterrows(): \n",
    "    id2gender[row['user_id']] = row['gender']\n",
    "\n",
    "#match review with gender and save\n",
    "male_texts = [] \n",
    "male_labels = []\n",
    "female_texts = [] \n",
    "female_labels = [] \n",
    "with open('datasets/yelp.csv', 'w') as f: \n",
    "    writer = csv.writer(f)\n",
    "    for ind, row in review_df.iterrows(): \n",
    "        try: \n",
    "            if id2gender[row['user_id']] == 'f': \n",
    "                female_texts.append(row['text'])\n",
    "                female_labels.append(row['stars'])\n",
    "                writer.writerow([row['text'], 'f', row['stars']])\n",
    "            elif id2gender[row['user_id']] == 'm':\n",
    "                male_texts.append(row['text'])\n",
    "                male_labels.append(row['stars'])\n",
    "                writer.writerow([row['text'], 'm', row['stars']])\n",
    "        except KeyError: \n",
    "            pass "
   ]
  },
  {
   "cell_type": "code",
   "execution_count": 13,
   "metadata": {},
   "outputs": [],
   "source": [
    "# Save a smaller version\n",
    "gender_review_df = pd.read_csv('datasets/yelp.csv')\n",
    "sm_gender_review_df = gender_review_df.head(100)\n",
    "sm_gender_review_df.to_csv('datasets/yelp100.csv')"
   ]
  },
  {
   "cell_type": "markdown",
   "metadata": {},
   "source": [
    "# Analysis"
   ]
  },
  {
   "cell_type": "code",
   "execution_count": 25,
   "metadata": {
    "_uuid": "b90cc1c436e483e940141736ad438fd9a62031a1"
   },
   "outputs": [
    {
     "data": {
      "text/html": [
       "<div>\n",
       "<style scoped>\n",
       "    .dataframe tbody tr th:only-of-type {\n",
       "        vertical-align: middle;\n",
       "    }\n",
       "\n",
       "    .dataframe tbody tr th {\n",
       "        vertical-align: top;\n",
       "    }\n",
       "\n",
       "    .dataframe thead th {\n",
       "        text-align: right;\n",
       "    }\n",
       "</style>\n",
       "<table border=\"1\" class=\"dataframe\">\n",
       "  <thead>\n",
       "    <tr style=\"text-align: right;\">\n",
       "      <th></th>\n",
       "      <th>average_stars</th>\n",
       "      <th>review_count</th>\n",
       "    </tr>\n",
       "    <tr>\n",
       "      <th>gender</th>\n",
       "      <th></th>\n",
       "      <th></th>\n",
       "    </tr>\n",
       "  </thead>\n",
       "  <tbody>\n",
       "    <tr>\n",
       "      <th>f</th>\n",
       "      <td>3.780351</td>\n",
       "      <td>24.171562</td>\n",
       "    </tr>\n",
       "    <tr>\n",
       "      <th>m</th>\n",
       "      <td>3.682556</td>\n",
       "      <td>22.437122</td>\n",
       "    </tr>\n",
       "    <tr>\n",
       "      <th>mf</th>\n",
       "      <td>3.736344</td>\n",
       "      <td>22.667431</td>\n",
       "    </tr>\n",
       "    <tr>\n",
       "      <th>na</th>\n",
       "      <td>3.619788</td>\n",
       "      <td>22.616181</td>\n",
       "    </tr>\n",
       "  </tbody>\n",
       "</table>\n",
       "</div>"
      ],
      "text/plain": [
       "        average_stars  review_count\n",
       "gender                             \n",
       "f            3.780351     24.171562\n",
       "m            3.682556     22.437122\n",
       "mf           3.736344     22.667431\n",
       "na           3.619788     22.616181"
      ]
     },
     "execution_count": 25,
     "metadata": {},
     "output_type": "execute_result"
    }
   ],
   "source": [
    "user_cdf.groupby('gender').mean()"
   ]
  },
  {
   "cell_type": "code",
   "execution_count": 40,
   "metadata": {
    "collapsed": true
   },
   "outputs": [],
   "source": [
    "processed_male = tokenize_reviews(male_texts[:10000])\n",
    "processed_female = tokenize_reviews(female_texts[:10000])"
   ]
  },
  {
   "cell_type": "code",
   "execution_count": 42,
   "metadata": {
    "collapsed": true
   },
   "outputs": [],
   "source": [
    "male_blabels = binarize_reviews(male_labels[:10000])\n",
    "female_blabels = binarize_reviews(female_labels[:10000])"
   ]
  },
  {
   "cell_type": "code",
   "execution_count": 94,
   "metadata": {
    "collapsed": true
   },
   "outputs": [],
   "source": [
    "mixed_reviews = tokenize_reviews(reviews[-20000:])\n",
    "mixed_blabels = binarize_reviews(ratings[-20000:])"
   ]
  },
  {
   "cell_type": "code",
   "execution_count": 95,
   "metadata": {},
   "outputs": [
    {
     "name": "stdout",
     "output_type": "stream",
     "text": [
      "0.80825\n"
     ]
    }
   ],
   "source": [
    "vectorizer = sklearn.feature_extraction.text.CountVectorizer(\n",
    "    preprocessor=lambda x: x, tokenizer=lambda x: x, max_features=5000)\n",
    "x_vectors = vectorizer.fit_transform(mixed_reviews)\n",
    "clf = sklearn.svm.SVC()\n",
    "clf.fit(x_vectors[:16000], mixed_blabels[:16000])\n",
    "predictions = clf.predict(x_vectors[16000:])\n",
    "acc = np.sum(predictions == mixed_blabels[16000:])/len(predictions)\n",
    "print(acc)"
   ]
  },
  {
   "cell_type": "code",
   "execution_count": 96,
   "metadata": {},
   "outputs": [
    {
     "name": "stdout",
     "output_type": "stream",
     "text": [
      "0.7427\n"
     ]
    }
   ],
   "source": [
    "x_vectors = vectorizer.fit_transform(processed_male)\n",
    "clf = sklearn.svm.SVC()\n",
    "clf.fit(x_vectors, male_blabels)\n",
    "predictions = clf.predict(x_vectors)\n",
    "acc = np.sum(predictions == male_blabels)/len(predictions)\n",
    "print(acc)"
   ]
  },
  {
   "cell_type": "code",
   "execution_count": 97,
   "metadata": {},
   "outputs": [
    {
     "name": "stdout",
     "output_type": "stream",
     "text": [
      "0.787\n"
     ]
    }
   ],
   "source": [
    "x_vectors = vectorizer.fit_transform(processed_female)\n",
    "clf = sklearn.svm.SVC()\n",
    "clf.fit(x_vectors, female_blabels)\n",
    "predictions = clf.predict(x_vectors)\n",
    "acc = np.sum(predictions == female_blabels)/len(predictions)\n",
    "print(acc)"
   ]
  },
  {
   "cell_type": "code",
   "execution_count": null,
   "metadata": {
    "collapsed": true
   },
   "outputs": [],
   "source": []
  }
 ],
 "metadata": {
  "kernelspec": {
   "display_name": "Python 3",
   "language": "python",
   "name": "python3"
  },
  "language_info": {
   "codemirror_mode": {
    "name": "ipython",
    "version": 3
   },
   "file_extension": ".py",
   "mimetype": "text/x-python",
   "name": "python",
   "nbconvert_exporter": "python",
   "pygments_lexer": "ipython3",
   "version": "3.6.3"
  }
 },
 "nbformat": 4,
 "nbformat_minor": 1
}
